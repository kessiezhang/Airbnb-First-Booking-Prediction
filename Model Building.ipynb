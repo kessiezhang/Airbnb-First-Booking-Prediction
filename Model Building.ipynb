{
 "cells": [
  {
   "cell_type": "markdown",
   "metadata": {},
   "source": [
    "# Airbnb First Booking Prediction"
   ]
  },
  {
   "cell_type": "markdown",
   "metadata": {},
   "source": [
    "## Features\n",
    "**gender**<br>\n",
    "**age**<br>\n",
    "**signup_method**<br>\n",
    "**signup_flow**: the page a user came to signup up from<br>\n",
    "**language**: international language preference<br>\n",
    "**affiliate_channel**: what kind of paid marketing<br>\n",
    "**affiliate_provider**: where the marketing is e.g. google, craigslist, other<br>\n",
    "**first_affiliate_tracked**: whats the first marketing the user interacted with before the signing up<br>\n",
    "**signup_app**<br>\n",
    "**first_device_type**<br>\n",
    "**first_browser**<br>\n",
    "**country_destination**<br>\n",
    "\n",
    "## Objective\n",
    "For this project, we are trying to predict whether a potential new customer will book his or her first room within a month after he or she browses the Airbnb website. Our data does not come with a target variable, so we first need to define one. In the EDA notebook, we used the difference between the timestamps of first_activity and date_first_booking to create a target variable column called book_within_a_month. The target variable comes with two labels, ‘Y’ for will book within a month and ‘N’ for will not book within a month. Our goal is to find all potential customers that are classified as ‘N’, and then send them promotion codes to encourage them to book.\n",
    "\n",
    "## Metrics\n",
    "Precison: The false positive here means the customers that we predicted will book a room actually will not book a room. Since we don't want to lose any money from the potential customers, we would want the false positive to be low. Therefore, we want high precision score.\n"
   ]
  },
  {
   "cell_type": "code",
   "execution_count": 1,
   "metadata": {},
   "outputs": [],
   "source": [
    "import pandas as pd\n",
    "import numpy as np\n",
    "import seaborn as sns\n",
    "\n",
    "from sklearn.model_selection import train_test_split\n",
    "from sklearn.naive_bayes import BernoulliNB, MultinomialNB, GaussianNB\n",
    "from sklearn.dummy import DummyClassifier\n",
    "\n",
    "from sklearn.neighbors import KNeighborsClassifier\n",
    "from sklearn.linear_model import LogisticRegression\n",
    "from sklearn.model_selection import train_test_split\n",
    "from sklearn.metrics import precision_score, recall_score, precision_recall_curve,f1_score, fbeta_score\n",
    "\n",
    "import matplotlib.pyplot as plt\n",
    "%matplotlib inline"
   ]
  },
  {
   "cell_type": "code",
   "execution_count": 2,
   "metadata": {},
   "outputs": [],
   "source": [
    "#import pickle from the eda notebook\n",
    "import pickle\n",
    "airbnb_booking = pd.read_pickle(\"./airbnb_data.pkl\")\n",
    "# pd.read_pickle(‘airbnb_data.pkl’, compression=‘infer’)"
   ]
  },
  {
   "cell_type": "code",
   "execution_count": 3,
   "metadata": {
    "scrolled": true
   },
   "outputs": [
    {
     "data": {
      "text/html": [
       "<div>\n",
       "<style scoped>\n",
       "    .dataframe tbody tr th:only-of-type {\n",
       "        vertical-align: middle;\n",
       "    }\n",
       "\n",
       "    .dataframe tbody tr th {\n",
       "        vertical-align: top;\n",
       "    }\n",
       "\n",
       "    .dataframe thead th {\n",
       "        text-align: right;\n",
       "    }\n",
       "</style>\n",
       "<table border=\"1\" class=\"dataframe\">\n",
       "  <thead>\n",
       "    <tr style=\"text-align: right;\">\n",
       "      <th></th>\n",
       "      <th>age</th>\n",
       "      <th>signup_flow</th>\n",
       "      <th>book_within_a_month</th>\n",
       "      <th>gender_FEMALE</th>\n",
       "      <th>gender_MALE</th>\n",
       "      <th>gender_OTHER</th>\n",
       "      <th>signup_method_basic</th>\n",
       "      <th>signup_method_facebook</th>\n",
       "      <th>signup_method_google</th>\n",
       "      <th>language_Other</th>\n",
       "      <th>...</th>\n",
       "      <th>first_device_type_iPad</th>\n",
       "      <th>first_device_type_iPhone</th>\n",
       "      <th>first_browser_Android Browser</th>\n",
       "      <th>first_browser_Chrome</th>\n",
       "      <th>first_browser_Chrome Mobile</th>\n",
       "      <th>first_browser_Firefox</th>\n",
       "      <th>first_browser_IE</th>\n",
       "      <th>first_browser_Mobile Safari</th>\n",
       "      <th>first_browser_Other</th>\n",
       "      <th>first_browser_Safari</th>\n",
       "    </tr>\n",
       "  </thead>\n",
       "  <tbody>\n",
       "    <tr>\n",
       "      <th>0</th>\n",
       "      <td>28</td>\n",
       "      <td>0.0</td>\n",
       "      <td>1.0</td>\n",
       "      <td>0.0</td>\n",
       "      <td>0.0</td>\n",
       "      <td>1.0</td>\n",
       "      <td>0.0</td>\n",
       "      <td>1.0</td>\n",
       "      <td>0.0</td>\n",
       "      <td>0.0</td>\n",
       "      <td>...</td>\n",
       "      <td>0.0</td>\n",
       "      <td>0.0</td>\n",
       "      <td>0.0</td>\n",
       "      <td>1.0</td>\n",
       "      <td>0.0</td>\n",
       "      <td>0.0</td>\n",
       "      <td>0.0</td>\n",
       "      <td>0.0</td>\n",
       "      <td>0.0</td>\n",
       "      <td>0.0</td>\n",
       "    </tr>\n",
       "    <tr>\n",
       "      <th>1</th>\n",
       "      <td>26</td>\n",
       "      <td>0.0</td>\n",
       "      <td>1.0</td>\n",
       "      <td>0.0</td>\n",
       "      <td>0.0</td>\n",
       "      <td>1.0</td>\n",
       "      <td>1.0</td>\n",
       "      <td>0.0</td>\n",
       "      <td>0.0</td>\n",
       "      <td>0.0</td>\n",
       "      <td>...</td>\n",
       "      <td>0.0</td>\n",
       "      <td>0.0</td>\n",
       "      <td>0.0</td>\n",
       "      <td>1.0</td>\n",
       "      <td>0.0</td>\n",
       "      <td>0.0</td>\n",
       "      <td>0.0</td>\n",
       "      <td>0.0</td>\n",
       "      <td>0.0</td>\n",
       "      <td>0.0</td>\n",
       "    </tr>\n",
       "    <tr>\n",
       "      <th>2</th>\n",
       "      <td>34</td>\n",
       "      <td>0.0</td>\n",
       "      <td>1.0</td>\n",
       "      <td>0.0</td>\n",
       "      <td>0.0</td>\n",
       "      <td>1.0</td>\n",
       "      <td>1.0</td>\n",
       "      <td>0.0</td>\n",
       "      <td>0.0</td>\n",
       "      <td>0.0</td>\n",
       "      <td>...</td>\n",
       "      <td>0.0</td>\n",
       "      <td>0.0</td>\n",
       "      <td>0.0</td>\n",
       "      <td>0.0</td>\n",
       "      <td>0.0</td>\n",
       "      <td>0.0</td>\n",
       "      <td>0.0</td>\n",
       "      <td>0.0</td>\n",
       "      <td>1.0</td>\n",
       "      <td>0.0</td>\n",
       "    </tr>\n",
       "    <tr>\n",
       "      <th>3</th>\n",
       "      <td>31</td>\n",
       "      <td>0.0</td>\n",
       "      <td>1.0</td>\n",
       "      <td>0.0</td>\n",
       "      <td>0.0</td>\n",
       "      <td>1.0</td>\n",
       "      <td>1.0</td>\n",
       "      <td>0.0</td>\n",
       "      <td>0.0</td>\n",
       "      <td>0.0</td>\n",
       "      <td>...</td>\n",
       "      <td>0.0</td>\n",
       "      <td>0.0</td>\n",
       "      <td>0.0</td>\n",
       "      <td>0.0</td>\n",
       "      <td>0.0</td>\n",
       "      <td>0.0</td>\n",
       "      <td>0.0</td>\n",
       "      <td>0.0</td>\n",
       "      <td>1.0</td>\n",
       "      <td>0.0</td>\n",
       "    </tr>\n",
       "    <tr>\n",
       "      <th>4</th>\n",
       "      <td>18</td>\n",
       "      <td>0.0</td>\n",
       "      <td>1.0</td>\n",
       "      <td>0.0</td>\n",
       "      <td>0.0</td>\n",
       "      <td>1.0</td>\n",
       "      <td>1.0</td>\n",
       "      <td>0.0</td>\n",
       "      <td>0.0</td>\n",
       "      <td>0.0</td>\n",
       "      <td>...</td>\n",
       "      <td>0.0</td>\n",
       "      <td>0.0</td>\n",
       "      <td>0.0</td>\n",
       "      <td>0.0</td>\n",
       "      <td>0.0</td>\n",
       "      <td>0.0</td>\n",
       "      <td>0.0</td>\n",
       "      <td>0.0</td>\n",
       "      <td>1.0</td>\n",
       "      <td>0.0</td>\n",
       "    </tr>\n",
       "  </tbody>\n",
       "</table>\n",
       "<p>5 rows × 53 columns</p>\n",
       "</div>"
      ],
      "text/plain": [
       "   age  signup_flow  book_within_a_month  gender_FEMALE  gender_MALE  \\\n",
       "0   28          0.0                  1.0            0.0          0.0   \n",
       "1   26          0.0                  1.0            0.0          0.0   \n",
       "2   34          0.0                  1.0            0.0          0.0   \n",
       "3   31          0.0                  1.0            0.0          0.0   \n",
       "4   18          0.0                  1.0            0.0          0.0   \n",
       "\n",
       "   gender_OTHER  signup_method_basic  signup_method_facebook  \\\n",
       "0           1.0                  0.0                     1.0   \n",
       "1           1.0                  1.0                     0.0   \n",
       "2           1.0                  1.0                     0.0   \n",
       "3           1.0                  1.0                     0.0   \n",
       "4           1.0                  1.0                     0.0   \n",
       "\n",
       "   signup_method_google  language_Other  ...  first_device_type_iPad  \\\n",
       "0                   0.0             0.0  ...                     0.0   \n",
       "1                   0.0             0.0  ...                     0.0   \n",
       "2                   0.0             0.0  ...                     0.0   \n",
       "3                   0.0             0.0  ...                     0.0   \n",
       "4                   0.0             0.0  ...                     0.0   \n",
       "\n",
       "   first_device_type_iPhone  first_browser_Android Browser  \\\n",
       "0                       0.0                            0.0   \n",
       "1                       0.0                            0.0   \n",
       "2                       0.0                            0.0   \n",
       "3                       0.0                            0.0   \n",
       "4                       0.0                            0.0   \n",
       "\n",
       "   first_browser_Chrome  first_browser_Chrome Mobile  first_browser_Firefox  \\\n",
       "0                   1.0                          0.0                    0.0   \n",
       "1                   1.0                          0.0                    0.0   \n",
       "2                   0.0                          0.0                    0.0   \n",
       "3                   0.0                          0.0                    0.0   \n",
       "4                   0.0                          0.0                    0.0   \n",
       "\n",
       "   first_browser_IE  first_browser_Mobile Safari  first_browser_Other  \\\n",
       "0               0.0                          0.0                  0.0   \n",
       "1               0.0                          0.0                  0.0   \n",
       "2               0.0                          0.0                  1.0   \n",
       "3               0.0                          0.0                  1.0   \n",
       "4               0.0                          0.0                  1.0   \n",
       "\n",
       "   first_browser_Safari  \n",
       "0                   0.0  \n",
       "1                   0.0  \n",
       "2                   0.0  \n",
       "3                   0.0  \n",
       "4                   0.0  \n",
       "\n",
       "[5 rows x 53 columns]"
      ]
     },
     "execution_count": 3,
     "metadata": {},
     "output_type": "execute_result"
    }
   ],
   "source": [
    "airbnb_booking.head()"
   ]
  },
  {
   "cell_type": "code",
   "execution_count": 73,
   "metadata": {},
   "outputs": [
    {
     "data": {
      "text/plain": [
       "Index(['age', 'signup_flow', 'book_within_a_month', 'gender_FEMALE',\n",
       "       'gender_MALE', 'gender_OTHER', 'signup_method_basic',\n",
       "       'signup_method_facebook', 'signup_method_google', 'language_Other',\n",
       "       'language_en', 'affiliate_channel_api', 'affiliate_channel_content',\n",
       "       'affiliate_channel_direct', 'affiliate_channel_other',\n",
       "       'affiliate_channel_remarketing', 'affiliate_channel_sem-brand',\n",
       "       'affiliate_channel_sem-non-brand', 'affiliate_channel_seo',\n",
       "       'affiliate_provider_Other', 'affiliate_provider_bing',\n",
       "       'affiliate_provider_craigslist', 'affiliate_provider_direct',\n",
       "       'affiliate_provider_facebook', 'affiliate_provider_google',\n",
       "       'first_affiliate_tracked_linked', 'first_affiliate_tracked_local ops',\n",
       "       'first_affiliate_tracked_marketing', 'first_affiliate_tracked_omg',\n",
       "       'first_affiliate_tracked_product',\n",
       "       'first_affiliate_tracked_tracked-other',\n",
       "       'first_affiliate_tracked_untracked', 'signup_app_Android',\n",
       "       'signup_app_Moweb', 'signup_app_Web', 'signup_app_iOS',\n",
       "       'first_device_type_Android Phone', 'first_device_type_Android Tablet',\n",
       "       'first_device_type_Desktop (Other)', 'first_device_type_Mac Desktop',\n",
       "       'first_device_type_Other/Unknown',\n",
       "       'first_device_type_SmartPhone (Other)',\n",
       "       'first_device_type_Windows Desktop', 'first_device_type_iPad',\n",
       "       'first_device_type_iPhone', 'first_browser_Android Browser',\n",
       "       'first_browser_Chrome', 'first_browser_Chrome Mobile',\n",
       "       'first_browser_Firefox', 'first_browser_IE',\n",
       "       'first_browser_Mobile Safari', 'first_browser_Other',\n",
       "       'first_browser_Safari'],\n",
       "      dtype='object')"
      ]
     },
     "execution_count": 73,
     "metadata": {},
     "output_type": "execute_result"
    }
   ],
   "source": [
    "airbnb_booking.columns"
   ]
  },
  {
   "cell_type": "code",
   "execution_count": 13,
   "metadata": {},
   "outputs": [],
   "source": [
    "airbnb_booking.age=airbnb_booking.age.astype(int)"
   ]
  },
  {
   "cell_type": "code",
   "execution_count": 14,
   "metadata": {},
   "outputs": [],
   "source": [
    "airbnb_booking=pd.get_dummies(airbnb_booking)"
   ]
  },
  {
   "cell_type": "code",
   "execution_count": 15,
   "metadata": {
    "scrolled": false
   },
   "outputs": [
    {
     "name": "stdout",
     "output_type": "stream",
     "text": [
      "(210522, 52)\n",
      "(210522,)\n"
     ]
    }
   ],
   "source": [
    "X, y = airbnb_booking.loc[:, airbnb_booking.columns != 'book_within_a_month'], airbnb_booking['book_within_a_month']\n",
    "print(X.shape)\n",
    "print(y.shape)"
   ]
  },
  {
   "cell_type": "code",
   "execution_count": 20,
   "metadata": {},
   "outputs": [
    {
     "data": {
      "text/plain": [
       "1.0    188635\n",
       "0.0     21887\n",
       "Name: book_within_a_month, dtype: int64"
      ]
     },
     "execution_count": 20,
     "metadata": {},
     "output_type": "execute_result"
    }
   ],
   "source": [
    "y.value_counts()\n",
    "#we can see that 89.6% of data are predicted as booked within a month"
   ]
  },
  {
   "cell_type": "markdown",
   "metadata": {},
   "source": [
    "Well, that's imbalanced. If we guessed all potential customers belonged to class 1 (booked within a month), we would be right 188635/(188635 + 21887) = 89.6% of the time! If accuracy is the metric, we have a very simple model that does very well."
   ]
  },
  {
   "cell_type": "markdown",
   "metadata": {},
   "source": [
    "## Class Imbalance -- Oversampling\n",
    "\n",
    "We will run smote and adasyn on the train set and see if that will help getting better result."
   ]
  },
  {
   "cell_type": "code",
   "execution_count": 21,
   "metadata": {},
   "outputs": [],
   "source": [
    "#train test split\n",
    "X_train, X_test, y_train, y_test = train_test_split(X, y, test_size=0.2,random_state=42, stratify = y)\n",
    "\n",
    "X_train, X_val, y_train, y_val = train_test_split(X_train, y_train, test_size=0.25,random_state=42, stratify = y_train)"
   ]
  },
  {
   "cell_type": "code",
   "execution_count": 22,
   "metadata": {},
   "outputs": [],
   "source": [
    "from imblearn.over_sampling import SMOTE\n",
    "from imblearn.over_sampling import ADASYN"
   ]
  },
  {
   "cell_type": "code",
   "execution_count": 23,
   "metadata": {},
   "outputs": [],
   "source": [
    "X_smoted_train, y_smoted_train = SMOTE(random_state=42).fit_sample(X_train, y_train)\n",
    "X_smoted_val, y_smoted_val = SMOTE(random_state=42).fit_sample(X_val, y_val)\n",
    "\n",
    "X_adasyn_train, y_adasyn_train = ADASYN(random_state=42).fit_sample(X_train, y_train)\n",
    "X_adasyn_val, y_adasyn_val = ADASYN(random_state=42).fit_sample(X_val, y_val)"
   ]
  },
  {
   "cell_type": "markdown",
   "metadata": {},
   "source": [
    "# Models Building"
   ]
  },
  {
   "cell_type": "markdown",
   "metadata": {},
   "source": [
    "## Random Forest"
   ]
  },
  {
   "cell_type": "code",
   "execution_count": 24,
   "metadata": {},
   "outputs": [
    {
     "data": {
      "text/plain": [
       "RandomForestClassifier(bootstrap=True, class_weight=None, criterion='gini',\n",
       "                       max_depth=None, max_features='auto', max_leaf_nodes=None,\n",
       "                       min_impurity_decrease=0.0, min_impurity_split=None,\n",
       "                       min_samples_leaf=1, min_samples_split=2,\n",
       "                       min_weight_fraction_leaf=0.0, n_estimators=64, n_jobs=-1,\n",
       "                       oob_score=False, random_state=None, verbose=0,\n",
       "                       warm_start=False)"
      ]
     },
     "execution_count": 24,
     "metadata": {},
     "output_type": "execute_result"
    }
   ],
   "source": [
    "from sklearn.ensemble import RandomForestClassifier\n",
    "from sklearn.datasets import make_classification\n",
    "import warnings\n",
    "warnings.filterwarnings(\"ignore\", message=\"numpy.dtype size changed\")\n",
    "clf = RandomForestClassifier(n_estimators=64,n_jobs=-1)\n",
    "clf.fit(X_smoted_train, y_smoted_train)"
   ]
  },
  {
   "cell_type": "code",
   "execution_count": 25,
   "metadata": {},
   "outputs": [
    {
     "name": "stdout",
     "output_type": "stream",
     "text": [
      "Fitting 3 folds for each of 10 candidates, totalling 30 fits\n"
     ]
    },
    {
     "name": "stderr",
     "output_type": "stream",
     "text": [
      "[Parallel(n_jobs=-1)]: Using backend LokyBackend with 4 concurrent workers.\n",
      "[Parallel(n_jobs=-1)]: Done  30 out of  30 | elapsed: 12.0min finished\n"
     ]
    },
    {
     "data": {
      "text/plain": [
       "{'mean_fit_time': array([106.20012927,  99.0127039 ,  92.16532787,  83.47252766,\n",
       "         88.51591134,  83.44271453,  84.24818746,  92.05244597,\n",
       "         83.06207188,  57.24157627]),\n",
       " 'std_fit_time': array([ 0.60085292,  5.27757711,  4.92402301,  0.43575906,  0.56775836,\n",
       "         3.92700211,  5.93611624,  1.50626064,  0.46360702, 17.01373119]),\n",
       " 'mean_score_time': array([5.93933709, 5.68945265, 6.4832205 , 7.29484034, 5.32256357,\n",
       "        4.78337979, 5.71838339, 7.00456468, 4.19728001, 3.38183562]),\n",
       " 'std_score_time': array([0.08023169, 0.36433023, 0.70274576, 0.56297972, 0.44449453,\n",
       "        0.04742518, 0.98308404, 0.52016244, 0.4177369 , 0.25354645]),\n",
       " 'param_max_depth': masked_array(data=[30, 31, 32, 33, 34, 35, 36, 37, 38, 39],\n",
       "              mask=[False, False, False, False, False, False, False, False,\n",
       "                    False, False],\n",
       "        fill_value='?',\n",
       "             dtype=object),\n",
       " 'param_n_estimators': masked_array(data=[100, 100, 100, 100, 100, 100, 100, 100, 100, 100],\n",
       "              mask=[False, False, False, False, False, False, False, False,\n",
       "                    False, False],\n",
       "        fill_value='?',\n",
       "             dtype=object),\n",
       " 'params': [{'max_depth': 30, 'n_estimators': 100},\n",
       "  {'max_depth': 31, 'n_estimators': 100},\n",
       "  {'max_depth': 32, 'n_estimators': 100},\n",
       "  {'max_depth': 33, 'n_estimators': 100},\n",
       "  {'max_depth': 34, 'n_estimators': 100},\n",
       "  {'max_depth': 35, 'n_estimators': 100},\n",
       "  {'max_depth': 36, 'n_estimators': 100},\n",
       "  {'max_depth': 37, 'n_estimators': 100},\n",
       "  {'max_depth': 38, 'n_estimators': 100},\n",
       "  {'max_depth': 39, 'n_estimators': 100}],\n",
       " 'split0_test_score': array([0.81788904, 0.81826013, 0.81981075, 0.82124208, 0.82161317,\n",
       "        0.8225939 , 0.82263366, 0.82279269, 0.82268667, 0.82288547]),\n",
       " 'split1_test_score': array([0.87605694, 0.87787261, 0.87808466, 0.8801654 , 0.88092083,\n",
       "        0.8818883 , 0.88221963, 0.88196782, 0.8822859 , 0.88221963]),\n",
       " 'split2_test_score': array([0.87484759, 0.87610666, 0.87861157, 0.87967184, 0.88006945,\n",
       "        0.88124901, 0.8819912 , 0.88135503, 0.88163336, 0.88226952]),\n",
       " 'mean_test_score': array([0.85626436, 0.85741297, 0.85883548, 0.8603596 , 0.86086764,\n",
       "        0.86191023, 0.86228132, 0.86203835, 0.8622018 , 0.86245803]),\n",
       " 'std_test_score': array([0.02714011, 0.02769481, 0.02759568, 0.02766118, 0.02775947,\n",
       "        0.02780226, 0.02803547, 0.02775218, 0.02794287, 0.02798222]),\n",
       " 'rank_test_score': array([10,  9,  8,  7,  6,  5,  2,  4,  3,  1], dtype=int32)}"
      ]
     },
     "execution_count": 25,
     "metadata": {},
     "output_type": "execute_result"
    }
   ],
   "source": [
    "from sklearn.ensemble import RandomForestClassifier\n",
    "from sklearn.model_selection import GridSearchCV\n",
    "hyper_param_grid = {'max_depth': [i for i in range(30,40)],\n",
    "                   'n_estimators': [100]}\n",
    "\n",
    "rf = GridSearchCV(RandomForestClassifier(), hyper_param_grid, n_jobs = -1, cv = 3, verbose = 1)\n",
    "\n",
    "\n",
    "rf.fit(X_smoted_train, y_smoted_train) \n",
    "\n",
    "rf.cv_results_"
   ]
  },
  {
   "cell_type": "code",
   "execution_count": 26,
   "metadata": {},
   "outputs": [
    {
     "data": {
      "text/plain": [
       "RandomForestClassifier(bootstrap=True, class_weight=None, criterion='gini',\n",
       "                       max_depth=None, max_features=39, max_leaf_nodes=None,\n",
       "                       min_impurity_decrease=0.0, min_impurity_split=None,\n",
       "                       min_samples_leaf=1, min_samples_split=2,\n",
       "                       min_weight_fraction_leaf=0.0, n_estimators=100,\n",
       "                       n_jobs=None, oob_score=False, random_state=None,\n",
       "                       verbose=0, warm_start=False)"
      ]
     },
     "execution_count": 26,
     "metadata": {},
     "output_type": "execute_result"
    }
   ],
   "source": [
    "RF = RandomForestClassifier(n_estimators=100, max_features=39)  \n",
    "RF.fit(X_smoted_train, y_smoted_train) "
   ]
  },
  {
   "cell_type": "code",
   "execution_count": 27,
   "metadata": {},
   "outputs": [],
   "source": [
    "y_predict_rf = RF.predict(X_smoted_val)"
   ]
  },
  {
   "cell_type": "code",
   "execution_count": 28,
   "metadata": {},
   "outputs": [
    {
     "name": "stdout",
     "output_type": "stream",
     "text": [
      "              precision    recall  f1-score   support\n",
      "\n",
      "         0.0       0.85      0.82      0.84     37727\n",
      "         1.0       0.83      0.85      0.84     37727\n",
      "\n",
      "    accuracy                           0.84     75454\n",
      "   macro avg       0.84      0.84      0.84     75454\n",
      "weighted avg       0.84      0.84      0.84     75454\n",
      "\n"
     ]
    }
   ],
   "source": [
    "from sklearn import metrics\n",
    "from sklearn.metrics import accuracy_score\n",
    "print(metrics.classification_report(y_smoted_val, y_predict_rf))"
   ]
  },
  {
   "cell_type": "code",
   "execution_count": 29,
   "metadata": {},
   "outputs": [
    {
     "name": "stdout",
     "output_type": "stream",
     "text": [
      "The score for RF_SMOTE is\n",
      "Training:  90.00%\n",
      "Test set:  83.76%\n"
     ]
    }
   ],
   "source": [
    "print(\"The score for RF_SMOTE is\")\n",
    "print(\"Training: {:6.2f}%\".format(100*RF.score(X_smoted_train, y_smoted_train)))\n",
    "print(\"Test set: {:6.2f}%\".format(100*RF.score(X_smoted_val, y_smoted_val)))"
   ]
  },
  {
   "cell_type": "code",
   "execution_count": 30,
   "metadata": {},
   "outputs": [
    {
     "data": {
      "text/plain": [
       "RandomForestClassifier(bootstrap=True, class_weight=None, criterion='gini',\n",
       "                       max_depth=None, max_features=39, max_leaf_nodes=None,\n",
       "                       min_impurity_decrease=0.0, min_impurity_split=None,\n",
       "                       min_samples_leaf=1, min_samples_split=2,\n",
       "                       min_weight_fraction_leaf=0.0, n_estimators=100,\n",
       "                       n_jobs=None, oob_score=False, random_state=None,\n",
       "                       verbose=0, warm_start=False)"
      ]
     },
     "execution_count": 30,
     "metadata": {},
     "output_type": "execute_result"
    }
   ],
   "source": [
    "#adasyn\n",
    "RF.fit(X_adasyn_train, y_adasyn_train) "
   ]
  },
  {
   "cell_type": "code",
   "execution_count": 31,
   "metadata": {},
   "outputs": [],
   "source": [
    "y_predict_rf_ada = RF.predict(X_adasyn_val) "
   ]
  },
  {
   "cell_type": "code",
   "execution_count": 32,
   "metadata": {},
   "outputs": [
    {
     "name": "stdout",
     "output_type": "stream",
     "text": [
      "              precision    recall  f1-score   support\n",
      "\n",
      "         0.0       0.84      0.84      0.84     36756\n",
      "         1.0       0.84      0.85      0.84     37727\n",
      "\n",
      "    accuracy                           0.84     74483\n",
      "   macro avg       0.84      0.84      0.84     74483\n",
      "weighted avg       0.84      0.84      0.84     74483\n",
      "\n"
     ]
    }
   ],
   "source": [
    "print(metrics.classification_report(y_adasyn_val, y_predict_rf_ada))"
   ]
  },
  {
   "cell_type": "code",
   "execution_count": 33,
   "metadata": {
    "scrolled": true
   },
   "outputs": [
    {
     "name": "stdout",
     "output_type": "stream",
     "text": [
      "The score for RF_ADASYN is\n",
      "Training:  89.46%\n",
      "Test set:  84.23%\n"
     ]
    }
   ],
   "source": [
    "print(\"The score for RF_ADASYN is\")\n",
    "print(\"Training: {:6.2f}%\".format(100*RF.score(X_adasyn_train, y_adasyn_train)))\n",
    "print(\"Test set: {:6.2f}%\".format(100*RF.score(X_adasyn_val, y_adasyn_val)))"
   ]
  },
  {
   "cell_type": "markdown",
   "metadata": {},
   "source": [
    "We can conclude that Random Forest with Adasyn gave us the best result which is 84%."
   ]
  },
  {
   "cell_type": "markdown",
   "metadata": {},
   "source": [
    "## Decision Tree"
   ]
  },
  {
   "cell_type": "code",
   "execution_count": null,
   "metadata": {},
   "outputs": [],
   "source": [
    "from sklearn.tree import DecisionTreeClassifier \n",
    "DT = DecisionTreeClassifier(random_state=0)\n",
    "DT.fit(X_smoted_train, y_smoted_train)"
   ]
  },
  {
   "cell_type": "code",
   "execution_count": null,
   "metadata": {},
   "outputs": [],
   "source": [
    "y_pred_dt = DT.predict(X_smoted_val)    "
   ]
  },
  {
   "cell_type": "code",
   "execution_count": null,
   "metadata": {
    "scrolled": true
   },
   "outputs": [],
   "source": [
    "print(metrics.classification_report(y_smoted_val, y_pred_dt))"
   ]
  },
  {
   "cell_type": "code",
   "execution_count": null,
   "metadata": {},
   "outputs": [],
   "source": [
    "DT.fit(X_adasyn_train, y_adasyn_train)"
   ]
  },
  {
   "cell_type": "code",
   "execution_count": null,
   "metadata": {},
   "outputs": [],
   "source": [
    "y_pred_dt_ada = DT.predict(X_adasyn_val) "
   ]
  },
  {
   "cell_type": "code",
   "execution_count": null,
   "metadata": {
    "scrolled": true
   },
   "outputs": [],
   "source": [
    "print(metrics.classification_report(y_adasyn_val, y_pred_dt_ada))"
   ]
  },
  {
   "cell_type": "markdown",
   "metadata": {},
   "source": [
    "## KNN Classification"
   ]
  },
  {
   "cell_type": "code",
   "execution_count": null,
   "metadata": {},
   "outputs": [],
   "source": [
    "# #knn grid search\n",
    "# from sklearn.model_selection import GridSearchCV, RandomizedSearchCV\n",
    "# knn_param = {'n_neighbors' : range(1,10), \n",
    "#              'algorithm':['auto', 'ball_tree','kd_tree','brute'], \n",
    "#              'weights':['uniform', 'distance']}\n",
    "# knn = KNeighborsClassifier()\n",
    "# grid_srch = RandomizedSearchCV(knn, knn_param, cv=5, scoring='roc_auc', n_jobs=-1, iid=True)\n",
    "# grid_srch.fit(X_smoted_train, y_smoted_train)\n",
    "# print(grid_srch.best_score_)\n",
    "# print(grid_srch.best_params_)"
   ]
  },
  {
   "cell_type": "code",
   "execution_count": null,
   "metadata": {},
   "outputs": [],
   "source": [
    "# fit on train\n",
    "knn = KNeighborsClassifier(n_neighbors=5)\n",
    "knn.fit(X_smoted_train, y_smoted_train)"
   ]
  },
  {
   "cell_type": "code",
   "execution_count": null,
   "metadata": {},
   "outputs": [],
   "source": [
    "# test on test\n",
    "y_pred_knn = knn.predict(X_smoted_val)"
   ]
  },
  {
   "cell_type": "code",
   "execution_count": null,
   "metadata": {
    "scrolled": true
   },
   "outputs": [],
   "source": [
    "print(metrics.classification_report(y_smoted_val, y_pred_knn))"
   ]
  },
  {
   "cell_type": "code",
   "execution_count": null,
   "metadata": {},
   "outputs": [],
   "source": [
    "print(\"The score for kNN_SMOTE is\")\n",
    "print(\"Training: {:6.2f}%\".format(100*knn.score(X_smoted_train, y_smoted_train)))\n",
    "print(\"Test set: {:6.2f}%\".format(100*knn.score(X_smoted_val, y_smoted_val)))"
   ]
  },
  {
   "cell_type": "code",
   "execution_count": null,
   "metadata": {
    "scrolled": true
   },
   "outputs": [],
   "source": [
    "# fit on train\n",
    "knn = KNeighborsClassifier(n_neighbors=5)\n",
    "knn.fit(X_adasyn_train, y_adasyn_train)"
   ]
  },
  {
   "cell_type": "code",
   "execution_count": null,
   "metadata": {},
   "outputs": [],
   "source": [
    "# test on test\n",
    "y_pred_knn_ada = knn.predict(X_adasyn_val)"
   ]
  },
  {
   "cell_type": "code",
   "execution_count": null,
   "metadata": {
    "scrolled": true
   },
   "outputs": [],
   "source": [
    "print(metrics.classification_report(y_adasyn_val, y_pred_knn_ada))"
   ]
  },
  {
   "cell_type": "code",
   "execution_count": null,
   "metadata": {},
   "outputs": [],
   "source": [
    "print(\"The score for kNN_ADASYN is\")\n",
    "print(\"Training: {:6.2f}%\".format(100*knn.score(X_smoted_train, y_smoted_train)))\n",
    "print(\"Test set: {:6.2f}%\".format(100*knn.score(X_smoted_val, y_smoted_val)))"
   ]
  },
  {
   "cell_type": "markdown",
   "metadata": {},
   "source": [
    "##  Logistic Regression"
   ]
  },
  {
   "cell_type": "code",
   "execution_count": 34,
   "metadata": {},
   "outputs": [
    {
     "name": "stderr",
     "output_type": "stream",
     "text": [
      "/Users/kessiezhang/anaconda3/lib/python3.7/site-packages/sklearn/linear_model/logistic.py:432: FutureWarning: Default solver will be changed to 'lbfgs' in 0.22. Specify a solver to silence this warning.\n",
      "  FutureWarning)\n"
     ]
    },
    {
     "data": {
      "text/plain": [
       "LogisticRegression(C=1, class_weight=None, dual=False, fit_intercept=True,\n",
       "                   intercept_scaling=1, l1_ratio=None, max_iter=100,\n",
       "                   multi_class='warn', n_jobs=None, penalty='l2',\n",
       "                   random_state=None, solver='warn', tol=0.0001, verbose=0,\n",
       "                   warm_start=False)"
      ]
     },
     "execution_count": 34,
     "metadata": {},
     "output_type": "execute_result"
    }
   ],
   "source": [
    "lr=LogisticRegression(C=1)\n",
    "lr.fit(X_smoted_train, y_smoted_train)"
   ]
  },
  {
   "cell_type": "code",
   "execution_count": 35,
   "metadata": {},
   "outputs": [],
   "source": [
    "y_predict_lr = lr.predict(X_smoted_val)"
   ]
  },
  {
   "cell_type": "code",
   "execution_count": 36,
   "metadata": {
    "scrolled": true
   },
   "outputs": [
    {
     "name": "stdout",
     "output_type": "stream",
     "text": [
      "              precision    recall  f1-score   support\n",
      "\n",
      "         0.0       0.63      0.70      0.66     37727\n",
      "         1.0       0.66      0.58      0.62     37727\n",
      "\n",
      "    accuracy                           0.64     75454\n",
      "   macro avg       0.64      0.64      0.64     75454\n",
      "weighted avg       0.64      0.64      0.64     75454\n",
      "\n"
     ]
    }
   ],
   "source": [
    "print(metrics.classification_report(y_smoted_val, y_predict_lr))"
   ]
  },
  {
   "cell_type": "code",
   "execution_count": 37,
   "metadata": {
    "scrolled": true
   },
   "outputs": [
    {
     "name": "stderr",
     "output_type": "stream",
     "text": [
      "/Users/kessiezhang/anaconda3/lib/python3.7/site-packages/sklearn/linear_model/logistic.py:432: FutureWarning: Default solver will be changed to 'lbfgs' in 0.22. Specify a solver to silence this warning.\n",
      "  FutureWarning)\n"
     ]
    },
    {
     "data": {
      "text/plain": [
       "LogisticRegression(C=1, class_weight=None, dual=False, fit_intercept=True,\n",
       "                   intercept_scaling=1, l1_ratio=None, max_iter=100,\n",
       "                   multi_class='warn', n_jobs=None, penalty='l2',\n",
       "                   random_state=None, solver='warn', tol=0.0001, verbose=0,\n",
       "                   warm_start=False)"
      ]
     },
     "execution_count": 37,
     "metadata": {},
     "output_type": "execute_result"
    }
   ],
   "source": [
    "lr.fit(X_adasyn_train, y_adasyn_train)"
   ]
  },
  {
   "cell_type": "code",
   "execution_count": 38,
   "metadata": {},
   "outputs": [],
   "source": [
    "y_predict_lr_ada = lr.predict(X_adasyn_val)"
   ]
  },
  {
   "cell_type": "code",
   "execution_count": 39,
   "metadata": {},
   "outputs": [
    {
     "name": "stdout",
     "output_type": "stream",
     "text": [
      "              precision    recall  f1-score   support\n",
      "\n",
      "         0.0       0.63      0.74      0.68     36756\n",
      "         1.0       0.69      0.57      0.62     37727\n",
      "\n",
      "    accuracy                           0.65     74483\n",
      "   macro avg       0.66      0.65      0.65     74483\n",
      "weighted avg       0.66      0.65      0.65     74483\n",
      "\n"
     ]
    }
   ],
   "source": [
    "from sklearn.metrics import accuracy_score\n",
    "print(metrics.classification_report(y_adasyn_val, y_predict_lr_ada))"
   ]
  },
  {
   "cell_type": "markdown",
   "metadata": {},
   "source": [
    "## XGBoost"
   ]
  },
  {
   "cell_type": "code",
   "execution_count": null,
   "metadata": {},
   "outputs": [],
   "source": [
    "# hyper_param_grid = {\n",
    "#         'min_child_weight': [1, 5],\n",
    "#         'gamma': [0.5, 1, 1.5],\n",
    "#         'max_depth': [3, 4, 5]\n",
    "#         }\n",
    "# xgb = GridSearchCV(XGBClassifier(), hyper_param_grid, n_jobs = -1, cv = 3, verbose = 1)\n",
    "\n",
    "\n",
    "# xgb.fit(X_smoted_train, y_smoted_train) \n",
    "\n",
    "# xgb.cv_results_"
   ]
  },
  {
   "cell_type": "code",
   "execution_count": 40,
   "metadata": {},
   "outputs": [
    {
     "data": {
      "text/plain": [
       "XGBClassifier(base_score=0.5, booster='gbtree', colsample_bylevel=1,\n",
       "              colsample_bynode=1, colsample_bytree=1, gamma=0,\n",
       "              learning_rate=0.1, max_delta_step=0, max_depth=3,\n",
       "              min_child_weight=1, missing=None, n_estimators=100, n_jobs=1,\n",
       "              nthread=None, objective='binary:logistic', random_state=0,\n",
       "              reg_alpha=0, reg_lambda=1, scale_pos_weight=1, seed=None,\n",
       "              silent=None, subsample=1, verbosity=1)"
      ]
     },
     "execution_count": 40,
     "metadata": {},
     "output_type": "execute_result"
    }
   ],
   "source": [
    "# import os\n",
    "# os.environ['KMP_DUPLICATE_LIB_OK']='True'\n",
    "from xgboost import XGBClassifier\n",
    "xgb = XGBClassifier()\n",
    "xgb.fit(X_smoted_train, y_smoted_train)"
   ]
  },
  {
   "cell_type": "code",
   "execution_count": 41,
   "metadata": {},
   "outputs": [
    {
     "name": "stdout",
     "output_type": "stream",
     "text": [
      "              precision    recall  f1-score   support\n",
      "\n",
      "         0.0       0.72      0.84      0.78     37727\n",
      "         1.0       0.81      0.68      0.74     37727\n",
      "\n",
      "    accuracy                           0.76     75454\n",
      "   macro avg       0.76      0.76      0.76     75454\n",
      "weighted avg       0.76      0.76      0.76     75454\n",
      "\n"
     ]
    }
   ],
   "source": [
    "y_pred_xgb = xgb.predict(X_smoted_val)\n",
    "print(metrics.classification_report(y_smoted_val, y_pred_xgb))"
   ]
  },
  {
   "cell_type": "code",
   "execution_count": 42,
   "metadata": {},
   "outputs": [
    {
     "data": {
      "text/plain": [
       "XGBClassifier(base_score=0.5, booster='gbtree', colsample_bylevel=1,\n",
       "              colsample_bynode=1, colsample_bytree=1, gamma=0,\n",
       "              learning_rate=0.1, max_delta_step=0, max_depth=3,\n",
       "              min_child_weight=1, missing=None, n_estimators=100, n_jobs=1,\n",
       "              nthread=None, objective='binary:logistic', random_state=0,\n",
       "              reg_alpha=0, reg_lambda=1, scale_pos_weight=1, seed=None,\n",
       "              silent=None, subsample=1, verbosity=1)"
      ]
     },
     "execution_count": 42,
     "metadata": {},
     "output_type": "execute_result"
    }
   ],
   "source": [
    "xgb = XGBClassifier()\n",
    "xgb.fit(X_adasyn_train, y_adasyn_train)"
   ]
  },
  {
   "cell_type": "code",
   "execution_count": 43,
   "metadata": {
    "scrolled": true
   },
   "outputs": [
    {
     "name": "stdout",
     "output_type": "stream",
     "text": [
      "              precision    recall  f1-score   support\n",
      "\n",
      "         0.0       0.72      0.87      0.79     36756\n",
      "         1.0       0.84      0.68      0.75     37727\n",
      "\n",
      "    accuracy                           0.77     74483\n",
      "   macro avg       0.78      0.77      0.77     74483\n",
      "weighted avg       0.78      0.77      0.77     74483\n",
      "\n"
     ]
    }
   ],
   "source": [
    "y_pred_xgb_ada = xgb.predict(X_adasyn_val)\n",
    "print(metrics.classification_report(y_adasyn_val, y_pred_xgb_ada))"
   ]
  },
  {
   "cell_type": "code",
   "execution_count": null,
   "metadata": {},
   "outputs": [],
   "source": []
  },
  {
   "cell_type": "markdown",
   "metadata": {},
   "source": [
    "## Naive Bayes"
   ]
  },
  {
   "cell_type": "code",
   "execution_count": null,
   "metadata": {},
   "outputs": [],
   "source": [
    "from sklearn.naive_bayes import BernoulliNB"
   ]
  },
  {
   "cell_type": "code",
   "execution_count": null,
   "metadata": {},
   "outputs": [],
   "source": [
    "nb = BernoulliNB()\n",
    "nb.fit(X_smoted_train, y_smoted_train)"
   ]
  },
  {
   "cell_type": "code",
   "execution_count": null,
   "metadata": {},
   "outputs": [],
   "source": [
    "y_pred_nb=nb.predict(X_smoted_val)"
   ]
  },
  {
   "cell_type": "code",
   "execution_count": null,
   "metadata": {},
   "outputs": [],
   "source": [
    "print(metrics.classification_report(y_smoted_val, y_pred_nb))"
   ]
  },
  {
   "cell_type": "code",
   "execution_count": null,
   "metadata": {},
   "outputs": [],
   "source": [
    "nb = BernoulliNB()\n",
    "nb.fit(X_adasyn_train, y_adasyn_train)\n",
    "y_pred_nb_ada=nb.predict(X_adasyn_val)"
   ]
  },
  {
   "cell_type": "code",
   "execution_count": null,
   "metadata": {},
   "outputs": [],
   "source": [
    "print(metrics.classification_report(y_adasyn_val, y_pred_nb_ada))"
   ]
  },
  {
   "cell_type": "markdown",
   "metadata": {},
   "source": [
    "## Models Comparison"
   ]
  },
  {
   "cell_type": "code",
   "execution_count": 44,
   "metadata": {},
   "outputs": [],
   "source": [
    "from sklearn.metrics import roc_curve,roc_auc_score"
   ]
  },
  {
   "cell_type": "code",
   "execution_count": 45,
   "metadata": {},
   "outputs": [],
   "source": [
    "#random forest\n",
    "fpr_rf1, tpr_rf1, thresholds = roc_curve(y_smoted_val, RF.predict_proba(X_smoted_val)[:,1])\n",
    "fpr_rf2, tpr_rf2, thresholds = roc_curve(y_adasyn_val, RF.predict_proba(X_adasyn_val)[:,1])\n",
    "roc_auc_RF1=roc_auc_score(y_smoted_val, RF.predict_proba(X_smoted_val)[:,1])\n",
    "roc_auc_RF2=roc_auc_score(y_adasyn_val, RF.predict_proba(X_adasyn_val)[:,1])\n",
    "# #decision tree\n",
    "# fpr_dt1, tpr_dt1, thresholds = roc_curve(y_smoted_val, DT.predict_proba(X_smoted_val)[:,1])\n",
    "# fpr_dt2, tpr_dt2, thresholds = roc_curve(y_adasyn_val, DT.predict_proba(X_adasyn_val)[:,1])\n",
    "# roc_auc_DT1=roc_auc_score(y_smoted_val, DT.predict_proba(X_smoted_val)[:,1])\n",
    "# roc_auc_DT2=roc_auc_score(y_adasyn_val, DT.predict_proba(X_adasyn_val)[:,1])\n",
    "# #knn\n",
    "# fpr_knn1, tpr_knn1, thresholds = roc_curve(y_smoted_val, knn.predict_proba(X_smoted_val)[:,1])\n",
    "# fpr_knn2, tpr_knn2, thresholds = roc_curve(y_adasyn_val, knn.predict_proba(X_adasyn_val)[:,1])\n",
    "# roc_auc_KNN1=roc_auc_score(y_smoted_val, knn.predict_proba(X_smoted_val)[:,1])\n",
    "# roc_auc_KNN2=roc_auc_score(y_adasyn_val, knn.predict_proba(X_adasyn_val)[:,1])\n",
    "#logistic regression\n",
    "fpr_lr1, tpr_lr1, thresholds = roc_curve(y_smoted_val, lr.predict_proba(X_smoted_val)[:,1])\n",
    "fpr_lr2, tpr_lr2, thresholds = roc_curve(y_adasyn_val, lr.predict_proba(X_adasyn_val)[:,1])\n",
    "roc_auc_LR1=roc_auc_score(y_smoted_val, lr.predict_proba(X_smoted_val)[:,1])\n",
    "roc_auc_LR2=roc_auc_score(y_adasyn_val, lr.predict_proba(X_adasyn_val)[:,1])\n",
    "# #xgboost\n",
    "fpr_xgb1, tpr_xgb1, thresholds = roc_curve(y_smoted_val, xgb.predict_proba(X_smoted_val)[:,1])\n",
    "fpr_xgb2, tpr_xgb2, thresholds = roc_curve(y_adasyn_val, xgb.predict_proba(X_adasyn_val)[:,1])\n",
    "roc_auc_XGB1=roc_auc_score(y_smoted_val, xgb.predict_proba(X_smoted_val)[:,1])\n",
    "roc_auc_XGB2=roc_auc_score(y_adasyn_val, xgb.predict_proba(X_adasyn_val)[:,1])\n",
    "# #naive bayes\n",
    "# fpr_nb1, tpr_nb1, thresholds = roc_curve(y_smoted_val, nb.predict_proba(X_smoted_val)[:,1])\n",
    "# fpr_nb2, tpr_nb2, thresholds = roc_curve(y_smoted_val, nb.predict_proba(X_smoted_val)[:,1])\n",
    "# roc_auc_nb1=roc_auc_score(y_smoted_val, nb.predict_proba(X_smoted_val)[:,1])\n",
    "# roc_auc_nb2=roc_auc_score(y_adasyn_val, nb.predict_proba(X_adasyn_val)[:,1])"
   ]
  },
  {
   "cell_type": "code",
   "execution_count": 46,
   "metadata": {},
   "outputs": [
    {
     "data": {
      "image/png": "[encoded data removed]",
      "text/plain": [
       "<Figure size 1080x720 with 1 Axes>"
      ]
     },
     "metadata": {
      "needs_background": "light"
     },
     "output_type": "display_data"
    }
   ],
   "source": [
    "plt.figure(figsize=(15,10))\n",
    "sns.set(style=\"darkgrid\")\n",
    "#random forest\n",
    "plt.plot(fpr_rf1, tpr_rf1,lw=2, label='Random Forest SMOTE ROC area = %0.2f)' % roc_auc_RF1)\n",
    "plt.plot(fpr_rf2, tpr_rf2,lw=2, label='Random Forest ADASYN ROC area = %0.2f)' % roc_auc_RF2)\n",
    "# #decision tree\n",
    "# plt.plot(fpr_dt1, tpr_dt1,lw=2, label='Decision Tree SMOTE ROC area = %0.2f)' % roc_auc_DT1)\n",
    "# plt.plot(fpr_dt2, tpr_dt2,lw=2, label='Decision Tree ADASYN ROC area = %0.2f)' % roc_auc_DT2)\n",
    "# #knn\n",
    "# plt.plot(fpr_knn1, tpr_knn1,lw=2, label='KNN SMOTE ROC area = %0.2f)' % roc_auc_KNN1)\n",
    "# plt.plot(fpr_knn2, tpr_knn2,lw=2, label='KNN ADASYN ROC area = %0.2f)' % roc_auc_KNN2)\n",
    "#logistic regression\n",
    "plt.plot(fpr_lr1, tpr_lr1,lw=2, label='Logistic Regression SMOTE ROC area = %0.2f)' % roc_auc_LR1)\n",
    "plt.plot(fpr_lr2, fpr_lr2,lw=2, label='Logistic Regression ADASYN ROC area = %0.2f)' % roc_auc_LR2)\n",
    "# #xgboost\n",
    "plt.plot(fpr_xgb1, tpr_xgb1,lw=2, label='XGBoost SMOTE ROC area = %0.2f)' % roc_auc_XGB1)\n",
    "plt.plot(fpr_xgb2, tpr_xgb2,lw=2, label='XGBoost ADASYN ROC area = %0.2f)' % roc_auc_XGB2)\n",
    "# #naive bayes\n",
    "# plt.plot(fpr_nb1, tpr_nb1,lw=2, label='Naive Bayes SMOTE ROC area = %0.2f)' % roc_auc_nb1)\n",
    "# plt.plot(fpr_nb2, tpr_nb2,lw=2, label='Naive Bayes ADASYN ROC area = %0.2f)' % roc_auc_nb2)\n",
    "\n",
    "plt.plot([0,1],[0,1],c='violet',ls='--')\n",
    "plt.xlim([-0.05,1.05])\n",
    "plt.ylim([-0.05,1.05])\n",
    "\n",
    "plt.legend(loc=\"lower right\",ncol=1,fontsize = 'x-large')\n",
    "plt.xlabel('False positive rate')\n",
    "plt.ylabel('True positive rate')\n",
    "plt.title('ROC curve for Airbnb Booking');"
   ]
  },
  {
   "cell_type": "code",
   "execution_count": 47,
   "metadata": {},
   "outputs": [],
   "source": [
    "from sklearn.metrics import log_loss"
   ]
  },
  {
   "cell_type": "code",
   "execution_count": 48,
   "metadata": {},
   "outputs": [
    {
     "name": "stdout",
     "output_type": "stream",
     "text": [
      "Log-loss Random Forest SMOTE: 0.6468\n",
      "Log-loss Random Forest ADASYN: 0.6126\n",
      "Log-loss Logistic Regression SMOTE: 0.6405\n",
      "Log-loss Logistic Regression ADASYN: 0.6297\n",
      "Log-loss XGBoost SMOTE: 0.4824\n",
      "Log-loss XGBoost ADASYN: 0.4600\n"
     ]
    }
   ],
   "source": [
    "# #Random Forest\n",
    "print(\"Log-loss Random Forest SMOTE: {:6.4f}\".format(log_loss(y_smoted_val, RF.predict_proba(X_smoted_val))))\n",
    "print(\"Log-loss Random Forest ADASYN: {:6.4f}\".format(log_loss(y_adasyn_val, RF.predict_proba(X_adasyn_val))))\n",
    "#Decision Tree\n",
    "# print(\"Log-loss Decision Tree SMOTE: {:6.4f}\".format(log_loss(y_smoted_val, DT.predict_proba(X_smoted_val))))\n",
    "# print(\"Log-loss Decision Tree ADASYN: {:6.4f}\".format(log_loss(y_adasyn_val, DT.predict_proba(X_adasyn_val))))\n",
    "#KNN\n",
    "# print(\"Log-loss KNN SMOTE: {:6.4f}\".format(log_loss(y_smoted_val, knn.predict_proba(X_smoted_val))))\n",
    "# print(\"Log-loss KNN ADASYN: {:6.4f}\".format(log_loss(y_adasyn_val, knn.predict_proba(X_adasyn_val))))\n",
    "# Logistic Regression\n",
    "print(\"Log-loss Logistic Regression SMOTE: {:6.4f}\".format(log_loss(y_smoted_val, lr.predict_proba(X_smoted_val))))\n",
    "print(\"Log-loss Logistic Regression ADASYN: {:6.4f}\".format(log_loss(y_adasyn_val, lr.predict_proba(X_adasyn_val))))\n",
    "#XGBoost\n",
    "print(\"Log-loss XGBoost SMOTE: {:6.4f}\".format(log_loss(y_smoted_val, xgb.predict_proba(X_smoted_val))))\n",
    "print(\"Log-loss XGBoost ADASYN: {:6.4f}\".format(log_loss(y_adasyn_val, xgb.predict_proba(X_adasyn_val))))\n",
    "#naive bayes\n",
    "# print(\"Log-loss Naive Bayes SMOTE: {:6.4f}\".format(log_loss(y_smoted_val, nb.predict_proba(X_smoted_val))))\n",
    "# print(\"Log-loss Naive Bayes ADASYN: {:6.4f}\".format(log_loss(y_adasyn_val, nb.predict_proba(X_adasyn_val))))\n"
   ]
  },
  {
   "cell_type": "markdown",
   "metadata": {},
   "source": [
    "Log Loss: show the uncertainty of your prediction based on how much it varies from the actual label. \n",
    "\n",
    "\n",
    "From the result, we can tell that Random Forest with ADAYSN is my best model so far. A perfect classification model has a log-loss of 0 and since Random Forest with SMOTE has the smallest log loss, we will use this. Let's try to combine the best 2 models to see if we can get a better model."
   ]
  },
  {
   "cell_type": "markdown",
   "metadata": {},
   "source": [
    "## Ensemble Methods "
   ]
  },
  {
   "cell_type": "code",
   "execution_count": null,
   "metadata": {},
   "outputs": [],
   "source": [
    "#Ensemble methods help to minimize these factors. \n",
    "#These methods are designed to improve the stability and the accuracy of Machine Learning algorithms.\n",
    "from mlxtend.classifier import StackingClassifier\n",
    "from mlxtend.plotting import plot_decision_regions\n",
    "from sklearn.ensemble import (RandomForestClassifier,VotingClassifier, AdaBoostClassifier)"
   ]
  },
  {
   "cell_type": "code",
   "execution_count": null,
   "metadata": {},
   "outputs": [],
   "source": [
    "model_names=['RF','DT']"
   ]
  },
  {
   "cell_type": "code",
   "execution_count": null,
   "metadata": {},
   "outputs": [],
   "source": [
    "model_vars = [eval(n) for n in model_names]\n",
    "model_list = list(zip(model_names, model_vars))\n",
    "model_list"
   ]
  },
  {
   "cell_type": "code",
   "execution_count": null,
   "metadata": {},
   "outputs": [],
   "source": [
    "#Max Voting\n",
    "voting_classifer = VotingClassifier(estimators=model_list,\n",
    "                                    voting='hard', #<-- sklearn calls this hard voting\n",
    "                                    n_jobs=-1)\n",
    "voting_classifer.fit(X_smoted_train, y_smoted_train)"
   ]
  },
  {
   "cell_type": "code",
   "execution_count": null,
   "metadata": {},
   "outputs": [],
   "source": [
    "y_pred_Ensemble = voting_classifer.predict(X_smoted_val)\n",
    "precision_score(y_smoted_val,y_pred_Ensemble)"
   ]
  },
  {
   "cell_type": "code",
   "execution_count": null,
   "metadata": {},
   "outputs": [],
   "source": [
    "#Avg Voting\n",
    "voting_classifer_avg = VotingClassifier(estimators=model_list,\n",
    "                                    voting='soft', #<-- sklearn calls this hard voting\n",
    "                                    n_jobs=-1)\n",
    "voting_classifer_avg.fit(X_smoted_train, y_smoted_train)"
   ]
  },
  {
   "cell_type": "code",
   "execution_count": null,
   "metadata": {},
   "outputs": [],
   "source": [
    "y_pred_Ensemble_avg = voting_classifer_avg.predict(X_smoted_val)\n",
    "precision_score(y_smoted_val,y_pred_Ensemble_avg)"
   ]
  },
  {
   "cell_type": "code",
   "execution_count": null,
   "metadata": {},
   "outputs": [],
   "source": [
    "#Weighted Voting\n",
    "# create voting classifier\n",
    "weights = [5.5,0.2]\n",
    "voting_model_weight = VotingClassifier(estimators=model_list,\n",
    "                                    voting='soft', \n",
    "                                    weights = weights,\n",
    "                                    n_jobs=-1)\n",
    "voting_model_weight.fit(X_smoted_train, y_smoted_train)"
   ]
  },
  {
   "cell_type": "code",
   "execution_count": null,
   "metadata": {},
   "outputs": [],
   "source": [
    "y_pred_Ensemble_weight = voting_model_weight.predict(X_smoted_val)\n",
    "precision_score(y_smoted_val,y_pred_Ensemble_weight)"
   ]
  },
  {
   "cell_type": "code",
   "execution_count": null,
   "metadata": {},
   "outputs": [],
   "source": [
    "#Weighted Voting\n",
    "# create voting classifier\n",
    "weights = [5.5,0.2]\n",
    "voting_model_weight = VotingClassifier(estimators=model_list,\n",
    "                                    voting='soft', \n",
    "                                    weights = weights,\n",
    "                                    n_jobs=-1)\n",
    "voting_model_weight.fit(X_adasyn_train, y_adasyn_train)"
   ]
  },
  {
   "cell_type": "code",
   "execution_count": null,
   "metadata": {},
   "outputs": [],
   "source": [
    "y_pred_Ensemble_weight_ada = voting_model_weight.predict(X_adasyn_val)\n",
    "precision_score(y_adasyn_val,y_pred_Ensemble_weight_ada)"
   ]
  },
  {
   "cell_type": "code",
   "execution_count": null,
   "metadata": {},
   "outputs": [],
   "source": [
    "#random forest\n",
    "fpr_stack, tpr_stack, thresholds = roc_curve(y_smoted_val, voting_model_weight.predict_proba(X_smoted_val)[:,1])\n",
    "roc_auc_stack=roc_auc_score(y_smoted_val, voting_model_weight.predict_proba(X_smoted_val)[:,1])"
   ]
  },
  {
   "cell_type": "code",
   "execution_count": null,
   "metadata": {},
   "outputs": [],
   "source": [
    "plt.figure(figsize=(15,10))\n",
    "#random forest\n",
    "plt.plot(fpr_rf1, tpr_rf1,lw=2, label='Random Forest SMOTE ROC area = %0.2f)' % roc_auc_RF1)\n",
    "plt.plot(fpr_rf2, tpr_rf2,lw=2, label='Random Forest ADASYN ROC area = %0.2f)' % roc_auc_RF2)\n",
    "#decision tree\n",
    "plt.plot(fpr_dt1, tpr_dt1,lw=2, label='Decision Tree SMOTE ROC area = %0.2f)' % roc_auc_DT1)\n",
    "plt.plot(fpr_dt2, tpr_dt2,lw=2, label='Decision Tree ADASYN ROC area = %0.2f)' % roc_auc_DT2)\n",
    "#ensemble method\n",
    "plt.plot(fpr_stack, tpr_stack,lw=2, label='Ensemble Methods SMOTE ROC area = %0.2f)' % roc_auc_stack)\n",
    "\n",
    "plt.plot([0,1],[0,1],c='violet',ls='--')\n",
    "plt.xlim([-0.05,1.05])\n",
    "plt.ylim([-0.05,1.05])\n",
    "\n",
    "plt.legend(loc=\"lower right\",ncol=1,fontsize = 'xx-large')\n",
    "plt.xlabel('False positive rate')\n",
    "plt.ylabel('True positive rate')\n",
    "plt.title('ROC curve for Airbnb Booking');"
   ]
  },
  {
   "cell_type": "markdown",
   "metadata": {},
   "source": [
    "After using ensemble method, we can see that the Random Forest SMOTE model is still the best model so far. Now that we have an idea about which model perform the best in general, we can compare their precision scores."
   ]
  },
  {
   "cell_type": "code",
   "execution_count": null,
   "metadata": {},
   "outputs": [],
   "source": [
    "rf_recall=recall_score(y_smoted_val,y_predict_rf)\n",
    "rf_ada_recall=recall_score(y_adasyn_val,y_predict_rf_ada)\n",
    "dt_recall=recall_score(y_smoted_val,y_pred_dt)\n",
    "dt_ada_recall=recall_score(y_adasyn_val,y_pred_dt_ada)\n",
    "es_recall=recall_score(y_smoted_val,y_pred_Ensemble_weight)"
   ]
  },
  {
   "cell_type": "markdown",
   "metadata": {},
   "source": []
  },
  {
   "cell_type": "code",
   "execution_count": null,
   "metadata": {},
   "outputs": [],
   "source": [
    "#Random Forest\n",
    "log1=log_loss(y_smoted_val, RF.predict_proba(X_smoted_val))\n",
    "log2=log_loss(y_adasyn_val, RF.predict_proba(X_adasyn_val))\n",
    "#Decision Tree\n",
    "log3=log_loss(y_smoted_val, DT.predict_proba(X_smoted_val))\n",
    "log4=log_loss(y_adasyn_val, DT.predict_proba(X_adasyn_val))\n",
    "#Ensemble Method\n",
    "log5=log_loss(y_smoted_val, voting_model_weight.predict_proba(X_smoted_val))          "
   ]
  },
  {
   "cell_type": "code",
   "execution_count": null,
   "metadata": {
    "scrolled": false
   },
   "outputs": [],
   "source": [
    "# initialise data of lists. \n",
    "data = {'Recall':[rf_recall,rf_ada_recall,dt_recall,dt_ada_recall,es_recall],\n",
    "       'AUC':[roc_auc_RF1,roc_auc_RF2,roc_auc_DT1,roc_auc_DT2,roc_auc_stack],\n",
    "       'Log-Loss':[log1,log2,log3,log4,log5]} \n",
    "  \n",
    "# Creates pandas DataFrame. \n",
    "df = pd.DataFrame(data, index =['Random Forest SMOTE', 'Random Forest ADASYN', 'Decision Tree SMOTE', \n",
    "                                'Decision Tree ADASYN','Ensemble Method']) \n",
    "  \n",
    "# print the data \n",
    "df "
   ]
  },
  {
   "cell_type": "markdown",
   "metadata": {},
   "source": [
    "Ensemble Method perform slightly better, however, since it is computationally expensive, we will still stick with Random Forest with SMOTE."
   ]
  },
  {
   "cell_type": "markdown",
   "metadata": {},
   "source": [
    "## Final Model Testing"
   ]
  },
  {
   "cell_type": "code",
   "execution_count": 62,
   "metadata": {},
   "outputs": [
    {
     "data": {
      "text/plain": [
       "RandomForestClassifier(bootstrap=True, class_weight=None, criterion='gini',\n",
       "                       max_depth=None, max_features=39, max_leaf_nodes=None,\n",
       "                       min_impurity_decrease=0.0, min_impurity_split=None,\n",
       "                       min_samples_leaf=1, min_samples_split=2,\n",
       "                       min_weight_fraction_leaf=0.0, n_estimators=100,\n",
       "                       n_jobs=None, oob_score=False, random_state=None,\n",
       "                       verbose=0, warm_start=False)"
      ]
     },
     "execution_count": 62,
     "metadata": {},
     "output_type": "execute_result"
    }
   ],
   "source": [
    "#Random Forest SMOTE\n",
    "from sklearn.ensemble import RandomForestClassifier\n",
    "RF.fit(X_adasyn_train, y_adasyn_train) "
   ]
  },
  {
   "cell_type": "code",
   "execution_count": 63,
   "metadata": {},
   "outputs": [],
   "source": [
    "y_predict_rf_final = RF.predict(X_test)"
   ]
  },
  {
   "cell_type": "code",
   "execution_count": 64,
   "metadata": {},
   "outputs": [
    {
     "name": "stdout",
     "output_type": "stream",
     "text": [
      "              precision    recall  f1-score   support\n",
      "\n",
      "         0.0       0.23      0.40      0.29      4377\n",
      "         1.0       0.92      0.85      0.88     37728\n",
      "\n",
      "    accuracy                           0.80     42105\n",
      "   macro avg       0.58      0.62      0.59     42105\n",
      "weighted avg       0.85      0.80      0.82     42105\n",
      "\n"
     ]
    }
   ],
   "source": [
    "print(metrics.classification_report(y_test, y_predict_rf_final))"
   ]
  },
  {
   "cell_type": "code",
   "execution_count": 65,
   "metadata": {},
   "outputs": [
    {
     "data": {
      "text/plain": [
       "0.8461620016963528"
      ]
     },
     "execution_count": 65,
     "metadata": {},
     "output_type": "execute_result"
    }
   ],
   "source": [
    "recall_score(y_test,y_predict_rf_final)"
   ]
  },
  {
   "cell_type": "code",
   "execution_count": 118,
   "metadata": {
    "scrolled": true
   },
   "outputs": [
    {
     "name": "stdout",
     "output_type": "stream",
     "text": [
      "0.896 will make a booking within a month\n",
      "There is a total of roughly 2 million new users on airbnb in 2020.\n",
      "There is an estimated total of $57346208 in profit available in 2020 from 1792069 new users with an estimated profit of $32 per new user!\n"
     ]
    }
   ],
   "source": [
    "# Percent of user who will make a booking\n",
    "percent_booker =(airbnb_booking[airbnb_booking['book_within_a_month'] == 1].shape[0])/(airbnb_booking.shape[0])\n",
    "print(f'{round(percent_booker,3)} will make a booking within a month')\n",
    "\n",
    "# Average daily booking is $160 and airbnb roughly profits 20% from the booking price.\n",
    "print(f'There is a total of roughly 2 million new users on airbnb in 2020.')\n",
    "revenue_per_booker = round(0.2 * 160)\n",
    "\n",
    "num_new_bookers=round(2e6 * percent_booker)\n",
    "total_revenue = num_new_bookers * revenue_per_booker\n",
    "print(f'There is an estimated total of ${round(total_revenue)} in profit available in 2020 from {round(num_new_bookers)} new users with an estimated profit of ${revenue_per_booker} per new user!')"
   ]
  },
  {
   "cell_type": "code",
   "execution_count": 119,
   "metadata": {},
   "outputs": [
    {
     "data": {
      "text/plain": [
       "0.1039653812903164"
      ]
     },
     "execution_count": 119,
     "metadata": {},
     "output_type": "execute_result"
    }
   ],
   "source": [
    "# Percent of user who will make a booking within 30days\n",
    "#essentially our target: potential users\n",
    "wont_percent_booker=1-percent_booker\n",
    "wont_percent_booker"
   ]
  },
  {
   "cell_type": "code",
   "execution_count": 120,
   "metadata": {},
   "outputs": [
    {
     "name": "stdout",
     "output_type": "stream",
     "text": [
      "There is 207931 potential new bookers in 2020\n"
     ]
    }
   ],
   "source": [
    "num_potential_bookers = round(2e6 * wont_percent_booker)\n",
    "\n",
    "print(f'There is {num_potential_bookers} potential new bookers in 2020')"
   ]
  },
  {
   "cell_type": "code",
   "execution_count": 67,
   "metadata": {},
   "outputs": [],
   "source": [
    "from sklearn.metrics import confusion_matrix"
   ]
  },
  {
   "cell_type": "code",
   "execution_count": 121,
   "metadata": {},
   "outputs": [
    {
     "name": "stdout",
     "output_type": "stream",
     "text": [
      "There is an estimated total of $6653792 more in profit available in 2020 if we target the potential users and turn them into our customers.\n"
     ]
    }
   ],
   "source": [
    "cost_advertisement_per_potential_user = 5\n",
    "\n",
    "cost_of_potential_total_advertisement = num_potential_bookers * 5\n",
    "cost_of_potential_total_advertisement\n",
    "\n",
    "#if all the potential users become our users\n",
    "revenue_potential=num_potential_bookers*revenue_per_booker\n",
    "print(f'There is an estimated total of ${round(revenue_potential)} more in profit available in 2020 if we target the potential users and turn them into our customers.')\n",
    "\n"
   ]
  },
  {
   "cell_type": "code",
   "execution_count": 124,
   "metadata": {},
   "outputs": [],
   "source": [
    "Cost_TP = 0 #the model predict the user will book  \n",
    "Cost_TN = cost_advertisement_per_potential_user #the model predict the user will not book and the user didn't book\n",
    "Cost_FP = revenue_per_booker\n",
    "Cost_FN = cost_advertisement_per_potential_user #we predict they will not book, so we send them code but they actually book so we lose the ad fee\n",
    "      \n",
    "Revenue_TP = revenue_per_booker\n",
    "Revenue_TN = revenue_per_booker #assuming after the marketing technique they become our customers\n",
    "Revenue_FP = 0\n",
    "Revenue_FN = revenue_per_booker\n",
    "\n",
    "# Total_revenue_rf = []\n",
    "\n",
    "# for threshold in np.linspace(0,1,26):\n",
    "#     TN = confusion_matrix(y_test, RF.predict_proba(X_test)[:,1] > threshold)[0][0]\n",
    "#     TP = confusion_matrix(y_test, RF.predict_proba(X_test)[:,1] > threshold)[1][1]\n",
    "#     FN = confusion_matrix(y_test, RF.predict_proba(X_test)[:,1] > threshold)[1][0]\n",
    "#     FP = confusion_matrix(y_test, RF.predict_proba(X_test)[:,1] > threshold)[0][1]\n",
    "    \n",
    "#     num_test_users = len(X_test)\n",
    "    \n",
    "#     # Total = Fraction of users for (TP, TN, FP, FN) * total users * Revenue per users\n",
    "    \n",
    "#     Total = ((TP/num_test_users) * 2e6 * (Revenue_TP - Cost_TP) + \n",
    "#              (TN/num_test_users) * 2e6 * (Revenue_TN - Cost_TN) + \n",
    "#              (FP/num_test_users) * 2e6 * (Revenue_FP - Cost_FP) + \n",
    "#              (FN/num_test_users) * 2e6 * (Revenue_FN - Cost_FN))\n",
    "    \n",
    "#     Total_revenue_rf.append(Total/1e6])\n",
    "\n",
    "# max(Total_revenue_rf)"
   ]
  },
  {
   "cell_type": "code",
   "execution_count": null,
   "metadata": {},
   "outputs": [],
   "source": [
    "TN = confusion_matrix(y_test, RF.predict_proba(X_test)[:,1] > threshold)[0][0]\n",
    "TP = confusion_matrix(y_test, RF.predict_proba(X_test)[:,1] > threshold)[1][1]\n",
    "FN = confusion_matrix(y_test, RF.predict_proba(X_test)[:,1] > threshold)[1][0]\n",
    "FP = confusion_matrix(y_test, RF.predict_proba(X_test)[:,1] > threshold)[0][1]"
   ]
  },
  {
   "cell_type": "code",
   "execution_count": 130,
   "metadata": {},
   "outputs": [
    {
     "data": {
      "text/plain": [
       "54000000.0"
      ]
     },
     "execution_count": 130,
     "metadata": {},
     "output_type": "execute_result"
    }
   ],
   "source": [
    "num_test_users = len(X_test)\n",
    "Total = ((TP/num_test_users) * 2e6 * (Revenue_TP - Cost_TP) + \n",
    "         (TN/num_test_users) * 2e6 * (Revenue_TN - Cost_TN) + \n",
    "         (FP/num_test_users) * 2e6 * (Revenue_FP - Cost_FP) + \n",
    "         (FN/num_test_users) * 2e6 * (Revenue_FN - Cost_FN))\n",
    "Total"
   ]
  },
  {
   "cell_type": "code",
   "execution_count": null,
   "metadata": {},
   "outputs": [],
   "source": []
  }
 ],
 "metadata": {
  "kernelspec": {
   "display_name": "metis",
   "language": "python",
   "name": "metis"
  },
  "language_info": {
   "codemirror_mode": {
    "name": "ipython",
    "version": 3
   },
   "file_extension": ".py",
   "mimetype": "text/x-python",
   "name": "python",
   "nbconvert_exporter": "python",
   "pygments_lexer": "ipython3",
   "version": "3.7.3"
  }
 },
 "nbformat": 4,
 "nbformat_minor": 2
}
