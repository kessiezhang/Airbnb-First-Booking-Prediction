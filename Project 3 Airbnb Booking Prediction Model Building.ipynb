{
 "cells": [
  {
   "cell_type": "markdown",
   "metadata": {},
   "source": [
    "# Airbnb First Booking Prediction"
   ]
  },
  {
   "cell_type": "markdown",
   "metadata": {},
   "source": [
    "## Features\n",
    "**gender**<br>\n",
    "**age**<br>\n",
    "**signup_method**<br>\n",
    "**signup_flow**: the page a user came to signup up from<br>\n",
    "**language**: international language preference<br>\n",
    "**affiliate_channel**: what kind of paid marketing<br>\n",
    "**affiliate_provider**: where the marketing is e.g. google, craigslist, other<br>\n",
    "**first_affiliate_tracked**: whats the first marketing the user interacted with before the signing up<br>\n",
    "**signup_app**<br>\n",
    "**first_device_type**<br>\n",
    "**first_browser**<br>\n",
    "**country_destination**: this is the target variable you are to predict<br>\n",
    "\n",
    "## Target\n",
    "\n",
    "In this project, we are trying to predict whether a potential customer will book his or her first room within a month after they browses the Airbnb website for the first time. Since we don't have a column for our predictive target yet, we will create a column with two classes Y/N using the difference between timestamps of the first activity and date_first_booking, which is done in the EDA notebook. Our goal is to find all the potential customers that are classified as 'will not book within a month', and then send them promotion codes assuming this might trigger them into a booking mode.\n",
    "\n",
    "## Metrics\n",
    "\n",
    "Precision: we want the false positive to be low since we want all the customers we predicted they will book will actually book within a month. "
   ]
  },
  {
   "cell_type": "code",
   "execution_count": 898,
   "metadata": {},
   "outputs": [],
   "source": [
    "import pandas as pd\n",
    "import numpy as np\n",
    "import seaborn as sns\n",
    "\n",
    "from sklearn.model_selection import train_test_split\n",
    "from sklearn.naive_bayes import BernoulliNB, MultinomialNB, GaussianNB\n",
    "from sklearn.dummy import DummyClassifier\n",
    "\n",
    "from sklearn.neighbors import KNeighborsClassifier\n",
    "from sklearn.linear_model import LogisticRegression\n",
    "from sklearn.model_selection import train_test_split\n",
    "from sklearn.metrics import precision_score, recall_score, precision_recall_curve,f1_score, fbeta_score\n",
    "\n",
    "import matplotlib.pyplot as plt\n",
    "%matplotlib inline"
   ]
  },
  {
   "cell_type": "code",
   "execution_count": 899,
   "metadata": {},
   "outputs": [],
   "source": [
    "#import pickle from the eda notebook\n",
    "import pickle\n",
    "airbnb_booking = pd.read_pickle(\"./airbnb_data.pkl\")\n",
    "# pd.read_pickle(‘airbnb_data.pkl’, compression=‘infer’)"
   ]
  },
  {
   "cell_type": "code",
   "execution_count": 900,
   "metadata": {},
   "outputs": [
    {
     "data": {
      "text/html": [
       "<div>\n",
       "<style scoped>\n",
       "    .dataframe tbody tr th:only-of-type {\n",
       "        vertical-align: middle;\n",
       "    }\n",
       "\n",
       "    .dataframe tbody tr th {\n",
       "        vertical-align: top;\n",
       "    }\n",
       "\n",
       "    .dataframe thead th {\n",
       "        text-align: right;\n",
       "    }\n",
       "</style>\n",
       "<table border=\"1\" class=\"dataframe\">\n",
       "  <thead>\n",
       "    <tr style=\"text-align: right;\">\n",
       "      <th></th>\n",
       "      <th>age</th>\n",
       "      <th>signup_flow</th>\n",
       "      <th>book_within_a_month</th>\n",
       "      <th>gender_FEMALE</th>\n",
       "      <th>gender_MALE</th>\n",
       "      <th>gender_OTHER</th>\n",
       "      <th>signup_method_basic</th>\n",
       "      <th>signup_method_facebook</th>\n",
       "      <th>signup_method_google</th>\n",
       "      <th>language_Other</th>\n",
       "      <th>...</th>\n",
       "      <th>first_device_type_iPad</th>\n",
       "      <th>first_device_type_iPhone</th>\n",
       "      <th>first_browser_Android Browser</th>\n",
       "      <th>first_browser_Chrome</th>\n",
       "      <th>first_browser_Chrome Mobile</th>\n",
       "      <th>first_browser_Firefox</th>\n",
       "      <th>first_browser_IE</th>\n",
       "      <th>first_browser_Mobile Safari</th>\n",
       "      <th>first_browser_Other</th>\n",
       "      <th>first_browser_Safari</th>\n",
       "    </tr>\n",
       "  </thead>\n",
       "  <tbody>\n",
       "    <tr>\n",
       "      <th>0</th>\n",
       "      <td>28.0</td>\n",
       "      <td>0.0</td>\n",
       "      <td>1.0</td>\n",
       "      <td>0.0</td>\n",
       "      <td>0.0</td>\n",
       "      <td>1.0</td>\n",
       "      <td>0.0</td>\n",
       "      <td>1.0</td>\n",
       "      <td>0.0</td>\n",
       "      <td>0.0</td>\n",
       "      <td>...</td>\n",
       "      <td>0.0</td>\n",
       "      <td>0.0</td>\n",
       "      <td>0.0</td>\n",
       "      <td>1.0</td>\n",
       "      <td>0.0</td>\n",
       "      <td>0.0</td>\n",
       "      <td>0.0</td>\n",
       "      <td>0.0</td>\n",
       "      <td>0.0</td>\n",
       "      <td>0.0</td>\n",
       "    </tr>\n",
       "    <tr>\n",
       "      <th>1</th>\n",
       "      <td>26.0</td>\n",
       "      <td>0.0</td>\n",
       "      <td>1.0</td>\n",
       "      <td>0.0</td>\n",
       "      <td>0.0</td>\n",
       "      <td>1.0</td>\n",
       "      <td>1.0</td>\n",
       "      <td>0.0</td>\n",
       "      <td>0.0</td>\n",
       "      <td>0.0</td>\n",
       "      <td>...</td>\n",
       "      <td>0.0</td>\n",
       "      <td>0.0</td>\n",
       "      <td>0.0</td>\n",
       "      <td>1.0</td>\n",
       "      <td>0.0</td>\n",
       "      <td>0.0</td>\n",
       "      <td>0.0</td>\n",
       "      <td>0.0</td>\n",
       "      <td>0.0</td>\n",
       "      <td>0.0</td>\n",
       "    </tr>\n",
       "    <tr>\n",
       "      <th>2</th>\n",
       "      <td>34.0</td>\n",
       "      <td>0.0</td>\n",
       "      <td>1.0</td>\n",
       "      <td>0.0</td>\n",
       "      <td>0.0</td>\n",
       "      <td>1.0</td>\n",
       "      <td>1.0</td>\n",
       "      <td>0.0</td>\n",
       "      <td>0.0</td>\n",
       "      <td>0.0</td>\n",
       "      <td>...</td>\n",
       "      <td>0.0</td>\n",
       "      <td>0.0</td>\n",
       "      <td>0.0</td>\n",
       "      <td>0.0</td>\n",
       "      <td>0.0</td>\n",
       "      <td>0.0</td>\n",
       "      <td>0.0</td>\n",
       "      <td>0.0</td>\n",
       "      <td>1.0</td>\n",
       "      <td>0.0</td>\n",
       "    </tr>\n",
       "    <tr>\n",
       "      <th>3</th>\n",
       "      <td>31.0</td>\n",
       "      <td>0.0</td>\n",
       "      <td>1.0</td>\n",
       "      <td>0.0</td>\n",
       "      <td>0.0</td>\n",
       "      <td>1.0</td>\n",
       "      <td>1.0</td>\n",
       "      <td>0.0</td>\n",
       "      <td>0.0</td>\n",
       "      <td>0.0</td>\n",
       "      <td>...</td>\n",
       "      <td>0.0</td>\n",
       "      <td>0.0</td>\n",
       "      <td>0.0</td>\n",
       "      <td>0.0</td>\n",
       "      <td>0.0</td>\n",
       "      <td>0.0</td>\n",
       "      <td>0.0</td>\n",
       "      <td>0.0</td>\n",
       "      <td>1.0</td>\n",
       "      <td>0.0</td>\n",
       "    </tr>\n",
       "    <tr>\n",
       "      <th>4</th>\n",
       "      <td>18.0</td>\n",
       "      <td>0.0</td>\n",
       "      <td>1.0</td>\n",
       "      <td>0.0</td>\n",
       "      <td>0.0</td>\n",
       "      <td>1.0</td>\n",
       "      <td>1.0</td>\n",
       "      <td>0.0</td>\n",
       "      <td>0.0</td>\n",
       "      <td>0.0</td>\n",
       "      <td>...</td>\n",
       "      <td>0.0</td>\n",
       "      <td>0.0</td>\n",
       "      <td>0.0</td>\n",
       "      <td>0.0</td>\n",
       "      <td>0.0</td>\n",
       "      <td>0.0</td>\n",
       "      <td>0.0</td>\n",
       "      <td>0.0</td>\n",
       "      <td>1.0</td>\n",
       "      <td>0.0</td>\n",
       "    </tr>\n",
       "  </tbody>\n",
       "</table>\n",
       "<p>5 rows × 53 columns</p>\n",
       "</div>"
      ],
      "text/plain": [
       "    age  signup_flow  book_within_a_month  gender_FEMALE  gender_MALE  \\\n",
       "0  28.0          0.0                  1.0            0.0          0.0   \n",
       "1  26.0          0.0                  1.0            0.0          0.0   \n",
       "2  34.0          0.0                  1.0            0.0          0.0   \n",
       "3  31.0          0.0                  1.0            0.0          0.0   \n",
       "4  18.0          0.0                  1.0            0.0          0.0   \n",
       "\n",
       "   gender_OTHER  signup_method_basic  signup_method_facebook  \\\n",
       "0           1.0                  0.0                     1.0   \n",
       "1           1.0                  1.0                     0.0   \n",
       "2           1.0                  1.0                     0.0   \n",
       "3           1.0                  1.0                     0.0   \n",
       "4           1.0                  1.0                     0.0   \n",
       "\n",
       "   signup_method_google  language_Other  ...  first_device_type_iPad  \\\n",
       "0                   0.0             0.0  ...                     0.0   \n",
       "1                   0.0             0.0  ...                     0.0   \n",
       "2                   0.0             0.0  ...                     0.0   \n",
       "3                   0.0             0.0  ...                     0.0   \n",
       "4                   0.0             0.0  ...                     0.0   \n",
       "\n",
       "   first_device_type_iPhone  first_browser_Android Browser  \\\n",
       "0                       0.0                            0.0   \n",
       "1                       0.0                            0.0   \n",
       "2                       0.0                            0.0   \n",
       "3                       0.0                            0.0   \n",
       "4                       0.0                            0.0   \n",
       "\n",
       "   first_browser_Chrome  first_browser_Chrome Mobile  first_browser_Firefox  \\\n",
       "0                   1.0                          0.0                    0.0   \n",
       "1                   1.0                          0.0                    0.0   \n",
       "2                   0.0                          0.0                    0.0   \n",
       "3                   0.0                          0.0                    0.0   \n",
       "4                   0.0                          0.0                    0.0   \n",
       "\n",
       "   first_browser_IE  first_browser_Mobile Safari  first_browser_Other  \\\n",
       "0               0.0                          0.0                  0.0   \n",
       "1               0.0                          0.0                  0.0   \n",
       "2               0.0                          0.0                  1.0   \n",
       "3               0.0                          0.0                  1.0   \n",
       "4               0.0                          0.0                  1.0   \n",
       "\n",
       "   first_browser_Safari  \n",
       "0                   0.0  \n",
       "1                   0.0  \n",
       "2                   0.0  \n",
       "3                   0.0  \n",
       "4                   0.0  \n",
       "\n",
       "[5 rows x 53 columns]"
      ]
     },
     "execution_count": 900,
     "metadata": {},
     "output_type": "execute_result"
    }
   ],
   "source": [
    "airbnb_booking.head()"
   ]
  },
  {
   "cell_type": "code",
   "execution_count": 901,
   "metadata": {},
   "outputs": [],
   "source": [
    "airbnb_booking.age=airbnb_booking.age.astype(int)"
   ]
  },
  {
   "cell_type": "code",
   "execution_count": 902,
   "metadata": {},
   "outputs": [],
   "source": [
    "airbnb_booking=pd.get_dummies(airbnb_booking)"
   ]
  },
  {
   "cell_type": "code",
   "execution_count": 903,
   "metadata": {
    "scrolled": false
   },
   "outputs": [
    {
     "name": "stdout",
     "output_type": "stream",
     "text": [
      "(210522, 52)\n",
      "(210522,)\n"
     ]
    }
   ],
   "source": [
    "X, y = airbnb_booking.loc[:, airbnb_booking.columns != 'book_within_a_month'], airbnb_booking['book_within_a_month']\n",
    "print(X.shape)\n",
    "print(y.shape)"
   ]
  },
  {
   "cell_type": "code",
   "execution_count": 963,
   "metadata": {},
   "outputs": [
    {
     "data": {
      "text/plain": [
       "1.0    188635\n",
       "0.0     21887\n",
       "Name: book_within_a_month, dtype: int64"
      ]
     },
     "execution_count": 963,
     "metadata": {},
     "output_type": "execute_result"
    }
   ],
   "source": [
    "y.value_counts()\n",
    "#we can see that 85% of data are predicted as booked within a month"
   ]
  },
  {
   "cell_type": "markdown",
   "metadata": {},
   "source": [
    "Well, that's imbalanced. If we always class 1 (booked within a month), we'll be right 16343/(16343 + 2945) = 85% of the time! If accuracy is the metric, we have a very simple model that does very well."
   ]
  },
  {
   "cell_type": "markdown",
   "metadata": {},
   "source": [
    "## Class Imbalance -- Oversampling"
   ]
  },
  {
   "cell_type": "markdown",
   "metadata": {},
   "source": [
    "### 1. SMOTE"
   ]
  },
  {
   "cell_type": "code",
   "execution_count": 964,
   "metadata": {},
   "outputs": [],
   "source": [
    "#Oversampling: Takes the minority class and over-samples it until it is balanced with the majority class.\n",
    "from imblearn.over_sampling import SMOTE\n",
    "X_smoted, y_smoted = SMOTE(random_state=42).fit_sample(X,y)"
   ]
  },
  {
   "cell_type": "code",
   "execution_count": null,
   "metadata": {
    "scrolled": true
   },
   "outputs": [],
   "source": [
    "from collections import Counter\n",
    "Counter(y_smoted)"
   ]
  },
  {
   "cell_type": "code",
   "execution_count": 965,
   "metadata": {},
   "outputs": [],
   "source": [
    "#In a classification setting, it is often chosen to ensure that the train and test sets have \n",
    "#approximately the same percentage of samples of each target class as the complete set.\n",
    "\n",
    "X_smoted, X_smoted_test, y_smoted, y_smoted_test = train_test_split(X_smoted, y_smoted, test_size=0.2,random_state=42)\n",
    "X_smoted_train, X_smoted_val, y_smoted_train, y_smoted_val = train_test_split(X_smoted, y_smoted, test_size=0.25,random_state=10)\n"
   ]
  },
  {
   "cell_type": "markdown",
   "metadata": {},
   "source": [
    "### 2. ADASYN"
   ]
  },
  {
   "cell_type": "code",
   "execution_count": 966,
   "metadata": {},
   "outputs": [],
   "source": [
    "from imblearn.over_sampling import ADASYN\n",
    "X_adasyn, y_adasyn = ADASYN(random_state=42).fit_sample(X,y)"
   ]
  },
  {
   "cell_type": "code",
   "execution_count": 967,
   "metadata": {},
   "outputs": [
    {
     "data": {
      "text/plain": [
       "Counter({1.0: 188635, 0.0: 185805})"
      ]
     },
     "execution_count": 967,
     "metadata": {},
     "output_type": "execute_result"
    }
   ],
   "source": [
    "Counter(y_adasyn)"
   ]
  },
  {
   "cell_type": "code",
   "execution_count": 968,
   "metadata": {},
   "outputs": [],
   "source": [
    "X_adasyn, X_adasyn_test, y_adasyn, y_adasyn_test = train_test_split(X_adasyn, y_adasyn, test_size=0.2,random_state=42)\n",
    "X_adasyn_train, X_adasyn_val, y_adasyn_train, y_adasyn_val = train_test_split(X_adasyn, y_adasyn, test_size=0.25,random_state=10)\n",
    "                                                                              "
   ]
  },
  {
   "cell_type": "markdown",
   "metadata": {},
   "source": [
    "# Models Building"
   ]
  },
  {
   "cell_type": "markdown",
   "metadata": {},
   "source": [
    "## Random Forest"
   ]
  },
  {
   "cell_type": "code",
   "execution_count": 914,
   "metadata": {},
   "outputs": [
    {
     "data": {
      "text/plain": [
       "RandomForestClassifier(bootstrap=True, class_weight=None, criterion='gini',\n",
       "                       max_depth=None, max_features='auto', max_leaf_nodes=None,\n",
       "                       min_impurity_decrease=0.0, min_impurity_split=None,\n",
       "                       min_samples_leaf=1, min_samples_split=2,\n",
       "                       min_weight_fraction_leaf=0.0, n_estimators=64, n_jobs=-1,\n",
       "                       oob_score=False, random_state=None, verbose=0,\n",
       "                       warm_start=False)"
      ]
     },
     "execution_count": 914,
     "metadata": {},
     "output_type": "execute_result"
    }
   ],
   "source": [
    "from sklearn.ensemble import RandomForestClassifier\n",
    "from sklearn.datasets import make_classification\n",
    "import warnings\n",
    "warnings.filterwarnings(\"ignore\", message=\"numpy.dtype size changed\")\n",
    "clf = RandomForestClassifier(n_estimators=64,n_jobs=-1)\n",
    "clf.fit(X_smoted_train, y_smoted_train)"
   ]
  },
  {
   "cell_type": "markdown",
   "metadata": {},
   "source": [
    "### Feature Importance"
   ]
  },
  {
   "cell_type": "code",
   "execution_count": 915,
   "metadata": {},
   "outputs": [
    {
     "data": {
      "text/html": [
       "<div>\n",
       "<style scoped>\n",
       "    .dataframe tbody tr th:only-of-type {\n",
       "        vertical-align: middle;\n",
       "    }\n",
       "\n",
       "    .dataframe tbody tr th {\n",
       "        vertical-align: top;\n",
       "    }\n",
       "\n",
       "    .dataframe thead th {\n",
       "        text-align: right;\n",
       "    }\n",
       "</style>\n",
       "<table border=\"1\" class=\"dataframe\">\n",
       "  <thead>\n",
       "    <tr style=\"text-align: right;\">\n",
       "      <th></th>\n",
       "      <th>value</th>\n",
       "    </tr>\n",
       "    <tr>\n",
       "      <th>feature</th>\n",
       "      <th></th>\n",
       "    </tr>\n",
       "  </thead>\n",
       "  <tbody>\n",
       "    <tr>\n",
       "      <th>age</th>\n",
       "      <td>0.4546</td>\n",
       "    </tr>\n",
       "    <tr>\n",
       "      <th>gender_OTHER</th>\n",
       "      <td>0.0608</td>\n",
       "    </tr>\n",
       "    <tr>\n",
       "      <th>signup_flow</th>\n",
       "      <td>0.0389</td>\n",
       "    </tr>\n",
       "    <tr>\n",
       "      <th>gender_FEMALE</th>\n",
       "      <td>0.0379</td>\n",
       "    </tr>\n",
       "    <tr>\n",
       "      <th>gender_MALE</th>\n",
       "      <td>0.0272</td>\n",
       "    </tr>\n",
       "    <tr>\n",
       "      <th>first_affiliate_tracked_untracked</th>\n",
       "      <td>0.0255</td>\n",
       "    </tr>\n",
       "    <tr>\n",
       "      <th>first_browser_Chrome</th>\n",
       "      <td>0.0233</td>\n",
       "    </tr>\n",
       "    <tr>\n",
       "      <th>first_affiliate_tracked_omg</th>\n",
       "      <td>0.0221</td>\n",
       "    </tr>\n",
       "    <tr>\n",
       "      <th>first_affiliate_tracked_linked</th>\n",
       "      <td>0.0202</td>\n",
       "    </tr>\n",
       "    <tr>\n",
       "      <th>first_device_type_Mac Desktop</th>\n",
       "      <td>0.0182</td>\n",
       "    </tr>\n",
       "    <tr>\n",
       "      <th>first_browser_Firefox</th>\n",
       "      <td>0.0176</td>\n",
       "    </tr>\n",
       "    <tr>\n",
       "      <th>signup_method_basic</th>\n",
       "      <td>0.0158</td>\n",
       "    </tr>\n",
       "    <tr>\n",
       "      <th>first_device_type_Windows Desktop</th>\n",
       "      <td>0.0143</td>\n",
       "    </tr>\n",
       "    <tr>\n",
       "      <th>signup_method_facebook</th>\n",
       "      <td>0.0142</td>\n",
       "    </tr>\n",
       "    <tr>\n",
       "      <th>affiliate_channel_sem-non-brand</th>\n",
       "      <td>0.0136</td>\n",
       "    </tr>\n",
       "    <tr>\n",
       "      <th>first_browser_IE</th>\n",
       "      <td>0.0134</td>\n",
       "    </tr>\n",
       "    <tr>\n",
       "      <th>first_browser_Safari</th>\n",
       "      <td>0.0132</td>\n",
       "    </tr>\n",
       "    <tr>\n",
       "      <th>affiliate_channel_sem-brand</th>\n",
       "      <td>0.0106</td>\n",
       "    </tr>\n",
       "    <tr>\n",
       "      <th>language_Other</th>\n",
       "      <td>0.0100</td>\n",
       "    </tr>\n",
       "    <tr>\n",
       "      <th>language_en</th>\n",
       "      <td>0.0099</td>\n",
       "    </tr>\n",
       "  </tbody>\n",
       "</table>\n",
       "</div>"
      ],
      "text/plain": [
       "                                    value\n",
       "feature                                  \n",
       "age                                0.4546\n",
       "gender_OTHER                       0.0608\n",
       "signup_flow                        0.0389\n",
       "gender_FEMALE                      0.0379\n",
       "gender_MALE                        0.0272\n",
       "first_affiliate_tracked_untracked  0.0255\n",
       "first_browser_Chrome               0.0233\n",
       "first_affiliate_tracked_omg        0.0221\n",
       "first_affiliate_tracked_linked     0.0202\n",
       "first_device_type_Mac Desktop      0.0182\n",
       "first_browser_Firefox              0.0176\n",
       "signup_method_basic                0.0158\n",
       "first_device_type_Windows Desktop  0.0143\n",
       "signup_method_facebook             0.0142\n",
       "affiliate_channel_sem-non-brand    0.0136\n",
       "first_browser_IE                   0.0134\n",
       "first_browser_Safari               0.0132\n",
       "affiliate_channel_sem-brand        0.0106\n",
       "language_Other                     0.0100\n",
       "language_en                        0.0099"
      ]
     },
     "execution_count": 915,
     "metadata": {},
     "output_type": "execute_result"
    }
   ],
   "source": [
    "feature_imp = pd.DataFrame(sorted(zip(map(lambda x: round(x, 4), clf.feature_importances_), X.columns.tolist()), \n",
    "             reverse=True))\n",
    "feature_imp.columns = ['value','feature']\n",
    "feature_imp.set_index('feature',inplace=True)\n",
    "feature_imp.nlargest(20,'value')\n",
    "#after using the knn, it seems like the age feature importance has gone down"
   ]
  },
  {
   "cell_type": "code",
   "execution_count": 918,
   "metadata": {},
   "outputs": [
    {
     "name": "stdout",
     "output_type": "stream",
     "text": [
      "Fitting 3 folds for each of 5 candidates, totalling 15 fits\n"
     ]
    },
    {
     "name": "stderr",
     "output_type": "stream",
     "text": [
      "[Parallel(n_jobs=-1)]: Using backend LokyBackend with 4 concurrent workers.\n",
      "[Parallel(n_jobs=-1)]: Done  15 out of  15 | elapsed:  3.3min finished\n"
     ]
    },
    {
     "data": {
      "text/plain": [
       "{'mean_fit_time': array([45.69130381, 47.3490936 , 49.02788695, 50.23360697, 44.53161128]),\n",
       " 'std_fit_time': array([0.03496376, 0.18048827, 1.28668779, 0.28093323, 1.03963847]),\n",
       " 'mean_score_time': array([1.32470234, 1.6592478 , 2.11624408, 2.52420767, 1.72561876]),\n",
       " 'std_score_time': array([0.00605928, 0.04421886, 0.26437166, 0.0900705 , 0.31910099]),\n",
       " 'param_max_depth': masked_array(data=[10, 11, 12, 13, 14],\n",
       "              mask=[False, False, False, False, False],\n",
       "        fill_value='?',\n",
       "             dtype=object),\n",
       " 'param_n_estimators': masked_array(data=[100, 100, 100, 100, 100],\n",
       "              mask=[False, False, False, False, False],\n",
       "        fill_value='?',\n",
       "             dtype=object),\n",
       " 'params': [{'max_depth': 10, 'n_estimators': 100},\n",
       "  {'max_depth': 11, 'n_estimators': 100},\n",
       "  {'max_depth': 12, 'n_estimators': 100},\n",
       "  {'max_depth': 13, 'n_estimators': 100},\n",
       "  {'max_depth': 14, 'n_estimators': 100}],\n",
       " 'split0_test_score': array([0.70084156, 0.71425353, 0.73207872, 0.74367504, 0.75923398]),\n",
       " 'split1_test_score': array([0.70116892, 0.71530999, 0.7296366 , 0.74503671, 0.75465847]),\n",
       " 'split2_test_score': array([0.70246379, 0.71282785, 0.72744622, 0.7436815 , 0.76053967]),\n",
       " 'mean_test_score': array([0.70149142, 0.71413046, 0.72972054, 0.74413108, 0.75814403]),\n",
       " 'std_test_score': array([0.00070043, 0.00101705, 0.00189214, 0.00064038, 0.00252165]),\n",
       " 'rank_test_score': array([5, 4, 3, 2, 1], dtype=int32)}"
      ]
     },
     "execution_count": 918,
     "metadata": {},
     "output_type": "execute_result"
    }
   ],
   "source": [
    "from sklearn.ensemble import RandomForestClassifier\n",
    "\n",
    "hyper_param_grid = {'max_depth': [i for i in range(30,40)],\n",
    "                   'n_estimators': [100]}\n",
    "\n",
    "rf = GridSearchCV(RandomForestClassifier(), hyper_param_grid, n_jobs = -1, cv = 3, verbose = 1)\n",
    "\n",
    "\n",
    "rf.fit(X_smoted_train, y_smoted_train) \n",
    "\n",
    "rf.cv_results_"
   ]
  },
  {
   "cell_type": "code",
   "execution_count": 919,
   "metadata": {},
   "outputs": [
    {
     "data": {
      "text/plain": [
       "RandomForestClassifier(bootstrap=True, class_weight=None, criterion='gini',\n",
       "                       max_depth=None, max_features=33, max_leaf_nodes=None,\n",
       "                       min_impurity_decrease=0.0, min_impurity_split=None,\n",
       "                       min_samples_leaf=1, min_samples_split=2,\n",
       "                       min_weight_fraction_leaf=0.0, n_estimators=100,\n",
       "                       n_jobs=None, oob_score=False, random_state=None,\n",
       "                       verbose=0, warm_start=False)"
      ]
     },
     "execution_count": 919,
     "metadata": {},
     "output_type": "execute_result"
    }
   ],
   "source": [
    "RF = RandomForestClassifier(n_estimators=100, max_features=33)  \n",
    "RF.fit(X_smoted_train, y_smoted_train) "
   ]
  },
  {
   "cell_type": "code",
   "execution_count": 920,
   "metadata": {},
   "outputs": [],
   "source": [
    "y_predict_rf = RF.predict(X_smoted_val)"
   ]
  },
  {
   "cell_type": "code",
   "execution_count": 921,
   "metadata": {},
   "outputs": [
    {
     "name": "stdout",
     "output_type": "stream",
     "text": [
      "              precision    recall  f1-score   support\n",
      "\n",
      "         0.0       0.83      0.88      0.86     37854\n",
      "         1.0       0.88      0.82      0.84     37600\n",
      "\n",
      "    accuracy                           0.85     75454\n",
      "   macro avg       0.85      0.85      0.85     75454\n",
      "weighted avg       0.85      0.85      0.85     75454\n",
      "\n"
     ]
    }
   ],
   "source": [
    "from sklearn import metrics\n",
    "from sklearn.metrics import accuracy_score\n",
    "print(metrics.classification_report(y_smoted_val, y_predict_rf))"
   ]
  },
  {
   "cell_type": "code",
   "execution_count": 922,
   "metadata": {},
   "outputs": [
    {
     "name": "stdout",
     "output_type": "stream",
     "text": [
      "The score for RF_SMOTE is\n",
      "Training:  88.23%\n",
      "Test set:  85.06%\n"
     ]
    }
   ],
   "source": [
    "print(\"The score for RF_SMOTE is\")\n",
    "print(\"Training: {:6.2f}%\".format(100*RF.score(X_smoted_train, y_smoted_train)))\n",
    "print(\"Test set: {:6.2f}%\".format(100*RF.score(X_smoted_val, y_smoted_val)))"
   ]
  },
  {
   "cell_type": "code",
   "execution_count": 923,
   "metadata": {},
   "outputs": [
    {
     "data": {
      "text/plain": [
       "RandomForestClassifier(bootstrap=True, class_weight=None, criterion='gini',\n",
       "                       max_depth=None, max_features=33, max_leaf_nodes=None,\n",
       "                       min_impurity_decrease=0.0, min_impurity_split=None,\n",
       "                       min_samples_leaf=1, min_samples_split=2,\n",
       "                       min_weight_fraction_leaf=0.0, n_estimators=100,\n",
       "                       n_jobs=None, oob_score=False, random_state=None,\n",
       "                       verbose=0, warm_start=False)"
      ]
     },
     "execution_count": 923,
     "metadata": {},
     "output_type": "execute_result"
    }
   ],
   "source": [
    "#adasyn\n",
    "from sklearn.ensemble import RandomForestClassifier\n",
    "RF.fit(X_adasyn_train, y_adasyn_train) "
   ]
  },
  {
   "cell_type": "code",
   "execution_count": 924,
   "metadata": {},
   "outputs": [],
   "source": [
    "y_predict_rf_ada = RF.predict(X_adasyn_val) "
   ]
  },
  {
   "cell_type": "code",
   "execution_count": 925,
   "metadata": {},
   "outputs": [
    {
     "name": "stdout",
     "output_type": "stream",
     "text": [
      "              precision    recall  f1-score   support\n",
      "\n",
      "         0.0       0.82      0.88      0.85     37342\n",
      "         1.0       0.87      0.80      0.84     37546\n",
      "\n",
      "    accuracy                           0.84     74888\n",
      "   macro avg       0.84      0.84      0.84     74888\n",
      "weighted avg       0.84      0.84      0.84     74888\n",
      "\n"
     ]
    }
   ],
   "source": [
    "from sklearn import metrics\n",
    "from sklearn.metrics import accuracy_score\n",
    "print(metrics.classification_report(y_adasyn_val, y_predict_rf_ada))"
   ]
  },
  {
   "cell_type": "code",
   "execution_count": 926,
   "metadata": {},
   "outputs": [
    {
     "name": "stdout",
     "output_type": "stream",
     "text": [
      "The score for RF_ADASYN is\n",
      "Training:  87.65%\n",
      "Test set:  84.10%\n"
     ]
    }
   ],
   "source": [
    "print(\"The score for RF_ADASYN is\")\n",
    "print(\"Training: {:6.2f}%\".format(100*RF.score(X_adasyn_train, y_adasyn_train)))\n",
    "print(\"Test set: {:6.2f}%\".format(100*RF.score(X_adasyn_val, y_adasyn_val)))"
   ]
  },
  {
   "cell_type": "markdown",
   "metadata": {},
   "source": [
    "## Decision Tree"
   ]
  },
  {
   "cell_type": "code",
   "execution_count": 930,
   "metadata": {},
   "outputs": [
    {
     "data": {
      "text/plain": [
       "DecisionTreeClassifier(class_weight=None, criterion='gini', max_depth=None,\n",
       "                       max_features=None, max_leaf_nodes=None,\n",
       "                       min_impurity_decrease=0.0, min_impurity_split=None,\n",
       "                       min_samples_leaf=1, min_samples_split=2,\n",
       "                       min_weight_fraction_leaf=0.0, presort=False,\n",
       "                       random_state=0, splitter='best')"
      ]
     },
     "execution_count": 930,
     "metadata": {},
     "output_type": "execute_result"
    }
   ],
   "source": [
    "from sklearn.tree import DecisionTreeClassifier \n",
    "DT = DecisionTreeClassifier(random_state=0)\n",
    "DT.fit(X_smoted_train, y_smoted_train)"
   ]
  },
  {
   "cell_type": "code",
   "execution_count": 931,
   "metadata": {},
   "outputs": [],
   "source": [
    "y_pred_dt = DT.predict(X_smoted_val)    "
   ]
  },
  {
   "cell_type": "code",
   "execution_count": 932,
   "metadata": {
    "scrolled": true
   },
   "outputs": [
    {
     "name": "stdout",
     "output_type": "stream",
     "text": [
      "              precision    recall  f1-score   support\n",
      "\n",
      "         0.0       0.81      0.89      0.85     37854\n",
      "         1.0       0.87      0.80      0.83     37600\n",
      "\n",
      "    accuracy                           0.84     75454\n",
      "   macro avg       0.84      0.84      0.84     75454\n",
      "weighted avg       0.84      0.84      0.84     75454\n",
      "\n"
     ]
    }
   ],
   "source": [
    "print(metrics.classification_report(y_smoted_val, y_pred_dt))"
   ]
  },
  {
   "cell_type": "code",
   "execution_count": 933,
   "metadata": {},
   "outputs": [
    {
     "data": {
      "text/plain": [
       "DecisionTreeClassifier(class_weight=None, criterion='gini', max_depth=None,\n",
       "                       max_features=None, max_leaf_nodes=None,\n",
       "                       min_impurity_decrease=0.0, min_impurity_split=None,\n",
       "                       min_samples_leaf=1, min_samples_split=2,\n",
       "                       min_weight_fraction_leaf=0.0, presort=False,\n",
       "                       random_state=0, splitter='best')"
      ]
     },
     "execution_count": 933,
     "metadata": {},
     "output_type": "execute_result"
    }
   ],
   "source": [
    "DT.fit(X_adasyn_train, y_adasyn_train)"
   ]
  },
  {
   "cell_type": "code",
   "execution_count": 934,
   "metadata": {},
   "outputs": [],
   "source": [
    "y_pred_dt_ada = DT.predict(X_adasyn_val) "
   ]
  },
  {
   "cell_type": "code",
   "execution_count": 935,
   "metadata": {
    "scrolled": true
   },
   "outputs": [
    {
     "name": "stdout",
     "output_type": "stream",
     "text": [
      "              precision    recall  f1-score   support\n",
      "\n",
      "         0.0       0.80      0.88      0.84     37342\n",
      "         1.0       0.87      0.78      0.82     37546\n",
      "\n",
      "    accuracy                           0.83     74888\n",
      "   macro avg       0.83      0.83      0.83     74888\n",
      "weighted avg       0.83      0.83      0.83     74888\n",
      "\n"
     ]
    }
   ],
   "source": [
    "print(metrics.classification_report(y_adasyn_val, y_pred_dt_ada))"
   ]
  },
  {
   "cell_type": "markdown",
   "metadata": {},
   "source": [
    "## KNN Classification"
   ]
  },
  {
   "cell_type": "code",
   "execution_count": null,
   "metadata": {},
   "outputs": [],
   "source": [
    "# #knn grid search\n",
    "# from sklearn.model_selection import GridSearchCV, RandomizedSearchCV\n",
    "# knn_param = {'n_neighbors' : range(1,10), \n",
    "#              'algorithm':['auto', 'ball_tree','kd_tree','brute'], \n",
    "#              'weights':['uniform', 'distance']}\n",
    "# knn = KNeighborsClassifier()\n",
    "# grid_srch = RandomizedSearchCV(knn, knn_param, cv=5, scoring='roc_auc', n_jobs=-1, iid=True)\n",
    "# grid_srch.fit(X_smoted_train, y_smoted_train)\n",
    "# print(grid_srch.best_score_)\n",
    "# print(grid_srch.best_params_)"
   ]
  },
  {
   "cell_type": "code",
   "execution_count": 936,
   "metadata": {},
   "outputs": [],
   "source": [
    "# fit on train\n",
    "knn = KNeighborsClassifier(n_neighbors=5)\n",
    "knn.fit(X_smoted_train, y_smoted_train)\n",
    "\n",
    "# test on test\n",
    "y_pred_knn = knn.predict(X_smoted_val)"
   ]
  },
  {
   "cell_type": "code",
   "execution_count": 937,
   "metadata": {
    "scrolled": true
   },
   "outputs": [
    {
     "name": "stdout",
     "output_type": "stream",
     "text": [
      "              precision    recall  f1-score   support\n",
      "\n",
      "         0.0       0.77      0.82      0.79     37854\n",
      "         1.0       0.81      0.75      0.78     37600\n",
      "\n",
      "    accuracy                           0.79     75454\n",
      "   macro avg       0.79      0.79      0.78     75454\n",
      "weighted avg       0.79      0.79      0.78     75454\n",
      "\n"
     ]
    }
   ],
   "source": [
    "print(metrics.classification_report(y_smoted_val, y_pred_knn))"
   ]
  },
  {
   "cell_type": "code",
   "execution_count": 938,
   "metadata": {},
   "outputs": [
    {
     "name": "stdout",
     "output_type": "stream",
     "text": [
      "The score for kNN_SMOTE is\n",
      "Training:  81.82%\n",
      "Test set:  78.52%\n"
     ]
    }
   ],
   "source": [
    "print(\"The score for kNN_SMOTE is\")\n",
    "print(\"Training: {:6.2f}%\".format(100*knn.score(X_smoted_train, y_smoted_train)))\n",
    "print(\"Test set: {:6.2f}%\".format(100*knn.score(X_smoted_val, y_smoted_val)))"
   ]
  },
  {
   "cell_type": "code",
   "execution_count": 939,
   "metadata": {
    "scrolled": true
   },
   "outputs": [
    {
     "data": {
      "text/plain": [
       "KNeighborsClassifier(algorithm='auto', leaf_size=30, metric='minkowski',\n",
       "                     metric_params=None, n_jobs=None, n_neighbors=5, p=2,\n",
       "                     weights='uniform')"
      ]
     },
     "execution_count": 939,
     "metadata": {},
     "output_type": "execute_result"
    }
   ],
   "source": [
    "# fit on train\n",
    "knn = KNeighborsClassifier(n_neighbors=5)\n",
    "knn.fit(X_adasyn_train, y_adasyn_train)"
   ]
  },
  {
   "cell_type": "code",
   "execution_count": 940,
   "metadata": {},
   "outputs": [],
   "source": [
    "# test on test\n",
    "y_pred_knn_ada = knn.predict(X_adasyn_val)"
   ]
  },
  {
   "cell_type": "code",
   "execution_count": 941,
   "metadata": {
    "scrolled": true
   },
   "outputs": [
    {
     "name": "stdout",
     "output_type": "stream",
     "text": [
      "              precision    recall  f1-score   support\n",
      "\n",
      "         0.0       0.75      0.82      0.78     37342\n",
      "         1.0       0.80      0.72      0.76     37546\n",
      "\n",
      "    accuracy                           0.77     74888\n",
      "   macro avg       0.77      0.77      0.77     74888\n",
      "weighted avg       0.77      0.77      0.77     74888\n",
      "\n"
     ]
    }
   ],
   "source": [
    "print(metrics.classification_report(y_adasyn_val, y_pred_knn_ada))"
   ]
  },
  {
   "cell_type": "code",
   "execution_count": 942,
   "metadata": {},
   "outputs": [
    {
     "name": "stdout",
     "output_type": "stream",
     "text": [
      "The score for kNN_ADASYN is\n",
      "Training:  79.13%\n",
      "Test set:  79.33%\n"
     ]
    }
   ],
   "source": [
    "print(\"The score for kNN_ADASYN is\")\n",
    "print(\"Training: {:6.2f}%\".format(100*knn.score(X_smoted_train, y_smoted_train)))\n",
    "print(\"Test set: {:6.2f}%\".format(100*knn.score(X_smoted_val, y_smoted_val)))"
   ]
  },
  {
   "cell_type": "markdown",
   "metadata": {},
   "source": [
    "##  Logistic Regression"
   ]
  },
  {
   "cell_type": "code",
   "execution_count": 943,
   "metadata": {},
   "outputs": [
    {
     "name": "stderr",
     "output_type": "stream",
     "text": [
      "/Users/kessiezhang/anaconda3/lib/python3.7/site-packages/sklearn/linear_model/logistic.py:432: FutureWarning: Default solver will be changed to 'lbfgs' in 0.22. Specify a solver to silence this warning.\n",
      "  FutureWarning)\n"
     ]
    },
    {
     "data": {
      "text/plain": [
       "LogisticRegression(C=1, class_weight=None, dual=False, fit_intercept=True,\n",
       "                   intercept_scaling=1, l1_ratio=None, max_iter=100,\n",
       "                   multi_class='warn', n_jobs=None, penalty='l2',\n",
       "                   random_state=None, solver='warn', tol=0.0001, verbose=0,\n",
       "                   warm_start=False)"
      ]
     },
     "execution_count": 943,
     "metadata": {},
     "output_type": "execute_result"
    }
   ],
   "source": [
    "lr=LogisticRegression(C=1)\n",
    "lr.fit(X_smoted_train, y_smoted_train)"
   ]
  },
  {
   "cell_type": "code",
   "execution_count": 944,
   "metadata": {},
   "outputs": [],
   "source": [
    "y_predict_lr = lr.predict(X_smoted_val)"
   ]
  },
  {
   "cell_type": "code",
   "execution_count": 945,
   "metadata": {
    "scrolled": true
   },
   "outputs": [
    {
     "name": "stdout",
     "output_type": "stream",
     "text": [
      "              precision    recall  f1-score   support\n",
      "\n",
      "         0.0       0.63      0.70      0.66     37854\n",
      "         1.0       0.66      0.58      0.62     37600\n",
      "\n",
      "    accuracy                           0.64     75454\n",
      "   macro avg       0.64      0.64      0.64     75454\n",
      "weighted avg       0.64      0.64      0.64     75454\n",
      "\n"
     ]
    }
   ],
   "source": [
    "print(metrics.classification_report(y_smoted_val, y_predict_lr))"
   ]
  },
  {
   "cell_type": "code",
   "execution_count": 946,
   "metadata": {
    "scrolled": true
   },
   "outputs": [
    {
     "name": "stderr",
     "output_type": "stream",
     "text": [
      "/Users/kessiezhang/anaconda3/lib/python3.7/site-packages/sklearn/linear_model/logistic.py:432: FutureWarning: Default solver will be changed to 'lbfgs' in 0.22. Specify a solver to silence this warning.\n",
      "  FutureWarning)\n"
     ]
    },
    {
     "data": {
      "text/plain": [
       "LogisticRegression(C=1, class_weight=None, dual=False, fit_intercept=True,\n",
       "                   intercept_scaling=1, l1_ratio=None, max_iter=100,\n",
       "                   multi_class='warn', n_jobs=None, penalty='l2',\n",
       "                   random_state=None, solver='warn', tol=0.0001, verbose=0,\n",
       "                   warm_start=False)"
      ]
     },
     "execution_count": 946,
     "metadata": {},
     "output_type": "execute_result"
    }
   ],
   "source": [
    "lr.fit(X_adasyn_train, y_adasyn_train)"
   ]
  },
  {
   "cell_type": "code",
   "execution_count": 947,
   "metadata": {},
   "outputs": [],
   "source": [
    "y_predict_lr_ada = lr.predict(X_adasyn_val)"
   ]
  },
  {
   "cell_type": "code",
   "execution_count": 948,
   "metadata": {},
   "outputs": [
    {
     "name": "stdout",
     "output_type": "stream",
     "text": [
      "              precision    recall  f1-score   support\n",
      "\n",
      "         0.0       0.63      0.77      0.70     37342\n",
      "         1.0       0.71      0.56      0.62     37546\n",
      "\n",
      "    accuracy                           0.66     74888\n",
      "   macro avg       0.67      0.66      0.66     74888\n",
      "weighted avg       0.67      0.66      0.66     74888\n",
      "\n"
     ]
    }
   ],
   "source": [
    "from sklearn.metrics import accuracy_score\n",
    "print(metrics.classification_report(y_adasyn_val, y_predict_lr_ada))"
   ]
  },
  {
   "cell_type": "markdown",
   "metadata": {},
   "source": [
    "## XGBoost"
   ]
  },
  {
   "cell_type": "code",
   "execution_count": 908,
   "metadata": {},
   "outputs": [],
   "source": [
    "# hyper_param_grid = {\n",
    "#         'min_child_weight': [1, 5],\n",
    "#         'gamma': [0.5, 1, 1.5],\n",
    "#         'max_depth': [3, 4, 5]\n",
    "#         }\n",
    "# xgb = GridSearchCV(XGBClassifier(), hyper_param_grid, n_jobs = -1, cv = 3, verbose = 1)\n",
    "\n",
    "\n",
    "# xgb.fit(X_smoted_train, y_smoted_train) \n",
    "\n",
    "# xgb.cv_results_"
   ]
  },
  {
   "cell_type": "code",
   "execution_count": 970,
   "metadata": {},
   "outputs": [
    {
     "data": {
      "text/plain": [
       "XGBClassifier(base_score=0.5, booster='gbtree', colsample_bylevel=1,\n",
       "              colsample_bynode=1, colsample_bytree=1, gamma=0,\n",
       "              learning_rate=0.1, max_delta_step=0, max_depth=3,\n",
       "              min_child_weight=1, missing=None, n_estimators=100, n_jobs=1,\n",
       "              nthread=None, objective='binary:logistic', random_state=0,\n",
       "              reg_alpha=0, reg_lambda=1, scale_pos_weight=1, seed=None,\n",
       "              silent=None, subsample=1, verbosity=1)"
      ]
     },
     "execution_count": 970,
     "metadata": {},
     "output_type": "execute_result"
    }
   ],
   "source": [
    "import os\n",
    "os.environ['KMP_DUPLICATE_LIB_OK']='True'\n",
    "from xgboost import XGBClassifier\n",
    "xgb = XGBClassifier()\n",
    "xgb.fit(X_smoted_train, y_smoted_train)"
   ]
  },
  {
   "cell_type": "code",
   "execution_count": 971,
   "metadata": {},
   "outputs": [
    {
     "name": "stdout",
     "output_type": "stream",
     "text": [
      "              precision    recall  f1-score   support\n",
      "\n",
      "         0.0       0.70      0.79      0.74     37854\n",
      "         1.0       0.75      0.65      0.70     37600\n",
      "\n",
      "    accuracy                           0.72     75454\n",
      "   macro avg       0.72      0.72      0.72     75454\n",
      "weighted avg       0.72      0.72      0.72     75454\n",
      "\n"
     ]
    }
   ],
   "source": [
    "y_pred_xgb = xgb.predict(X_smoted_val)\n",
    "print(metrics.classification_report(y_smoted_val, y_pred_xgb))"
   ]
  },
  {
   "cell_type": "code",
   "execution_count": 972,
   "metadata": {},
   "outputs": [
    {
     "data": {
      "text/plain": [
       "XGBClassifier(base_score=0.5, booster='gbtree', colsample_bylevel=1,\n",
       "              colsample_bynode=1, colsample_bytree=1, gamma=0,\n",
       "              learning_rate=0.1, max_delta_step=0, max_depth=3,\n",
       "              min_child_weight=1, missing=None, n_estimators=100, n_jobs=1,\n",
       "              nthread=None, objective='binary:logistic', random_state=0,\n",
       "              reg_alpha=0, reg_lambda=1, scale_pos_weight=1, seed=None,\n",
       "              silent=None, subsample=1, verbosity=1)"
      ]
     },
     "execution_count": 972,
     "metadata": {},
     "output_type": "execute_result"
    }
   ],
   "source": [
    "xgb = XGBClassifier()\n",
    "xgb.fit(X_adasyn_train, y_adasyn_train)"
   ]
  },
  {
   "cell_type": "code",
   "execution_count": 973,
   "metadata": {
    "scrolled": true
   },
   "outputs": [
    {
     "name": "stdout",
     "output_type": "stream",
     "text": [
      "              precision    recall  f1-score   support\n",
      "\n",
      "         0.0       0.70      0.83      0.76     37342\n",
      "         1.0       0.79      0.65      0.71     37546\n",
      "\n",
      "    accuracy                           0.74     74888\n",
      "   macro avg       0.75      0.74      0.74     74888\n",
      "weighted avg       0.75      0.74      0.74     74888\n",
      "\n"
     ]
    }
   ],
   "source": [
    "y_pred_xgb_ada = xgb.predict(X_adasyn_val)\n",
    "print(metrics.classification_report(y_adasyn_val, y_pred_xgb_ada))"
   ]
  },
  {
   "cell_type": "code",
   "execution_count": 975,
   "metadata": {},
   "outputs": [],
   "source": []
  },
  {
   "cell_type": "markdown",
   "metadata": {},
   "source": [
    "## Naive Bayes"
   ]
  },
  {
   "cell_type": "code",
   "execution_count": 954,
   "metadata": {},
   "outputs": [],
   "source": [
    "from sklearn.naive_bayes import BernoulliNB"
   ]
  },
  {
   "cell_type": "code",
   "execution_count": 955,
   "metadata": {},
   "outputs": [
    {
     "data": {
      "text/plain": [
       "BernoulliNB(alpha=1.0, binarize=0.0, class_prior=None, fit_prior=True)"
      ]
     },
     "execution_count": 955,
     "metadata": {},
     "output_type": "execute_result"
    }
   ],
   "source": [
    "nb = BernoulliNB()\n",
    "nb.fit(X_smoted_train, y_smoted_train)"
   ]
  },
  {
   "cell_type": "code",
   "execution_count": 956,
   "metadata": {},
   "outputs": [],
   "source": [
    "y_pred_nb=nb.predict(X_smoted_val)"
   ]
  },
  {
   "cell_type": "code",
   "execution_count": 957,
   "metadata": {},
   "outputs": [
    {
     "name": "stdout",
     "output_type": "stream",
     "text": [
      "              precision    recall  f1-score   support\n",
      "\n",
      "         0.0       0.62      0.69      0.65     37854\n",
      "         1.0       0.65      0.58      0.61     37600\n",
      "\n",
      "    accuracy                           0.63     75454\n",
      "   macro avg       0.63      0.63      0.63     75454\n",
      "weighted avg       0.63      0.63      0.63     75454\n",
      "\n"
     ]
    }
   ],
   "source": [
    "print(metrics.classification_report(y_smoted_val, y_pred_nb))"
   ]
  },
  {
   "cell_type": "code",
   "execution_count": 958,
   "metadata": {},
   "outputs": [],
   "source": [
    "nb = BernoulliNB()\n",
    "nb.fit(X_adasyn_train, y_adasyn_train)\n",
    "y_pred_nb_ada=nb.predict(X_adasyn_val)"
   ]
  },
  {
   "cell_type": "code",
   "execution_count": 959,
   "metadata": {},
   "outputs": [
    {
     "name": "stdout",
     "output_type": "stream",
     "text": [
      "              precision    recall  f1-score   support\n",
      "\n",
      "         0.0       0.63      0.72      0.67     37342\n",
      "         1.0       0.67      0.57      0.62     37546\n",
      "\n",
      "    accuracy                           0.65     74888\n",
      "   macro avg       0.65      0.65      0.64     74888\n",
      "weighted avg       0.65      0.65      0.64     74888\n",
      "\n"
     ]
    }
   ],
   "source": [
    "print(metrics.classification_report(y_adasyn_val, y_pred_nb_ada))"
   ]
  },
  {
   "cell_type": "markdown",
   "metadata": {},
   "source": [
    "## Models Comparison"
   ]
  },
  {
   "cell_type": "code",
   "execution_count": 978,
   "metadata": {},
   "outputs": [],
   "source": [
    "#random forest\n",
    "fpr_rf1, tpr_rf1, thresholds = roc_curve(y_smoted_val, RF.predict_proba(X_smoted_val)[:,1])\n",
    "fpr_rf2, tpr_rf2, thresholds = roc_curve(y_adasyn_val, RF.predict_proba(X_adasyn_val)[:,1])\n",
    "roc_auc_RF1=roc_auc_score(y_smoted_val, RF.predict_proba(X_smoted_val)[:,1])\n",
    "roc_auc_RF2=roc_auc_score(y_adasyn_val, RF.predict_proba(X_adasyn_val)[:,1])\n",
    "#decision tree\n",
    "fpr_dt1, tpr_dt1, thresholds = roc_curve(y_smoted_val, DT.predict_proba(X_smoted_val)[:,1])\n",
    "fpr_dt2, tpr_dt2, thresholds = roc_curve(y_adasyn_val, DT.predict_proba(X_adasyn_val)[:,1])\n",
    "roc_auc_DT1=roc_auc_score(y_smoted_val, DT.predict_proba(X_smoted_val)[:,1])\n",
    "roc_auc_DT2=roc_auc_score(y_adasyn_val, DT.predict_proba(X_adasyn_val)[:,1])\n",
    "#knn\n",
    "fpr_knn1, tpr_knn1, thresholds = roc_curve(y_smoted_val, knn.predict_proba(X_smoted_val)[:,1])\n",
    "fpr_knn2, tpr_knn2, thresholds = roc_curve(y_adasyn_val, knn.predict_proba(X_adasyn_val)[:,1])\n",
    "roc_auc_KNN1=roc_auc_score(y_smoted_val, knn.predict_proba(X_smoted_val)[:,1])\n",
    "roc_auc_KNN2=roc_auc_score(y_adasyn_val, knn.predict_proba(X_adasyn_val)[:,1])\n",
    "#logistic regression\n",
    "fpr_lr1, tpr_lr1, thresholds = roc_curve(y_smoted_val, lr.predict_proba(X_smoted_val)[:,1])\n",
    "fpr_lr2, tpr_lr2, thresholds = roc_curve(y_adasyn_val, lr.predict_proba(X_adasyn_val)[:,1])\n",
    "roc_auc_LR1=roc_auc_score(y_smoted_val, lr.predict_proba(X_smoted_val)[:,1])\n",
    "roc_auc_LR2=roc_auc_score(y_adasyn_val, lr.predict_proba(X_adasyn_val)[:,1])\n",
    "# #xgboost\n",
    "fpr_xgb1, tpr_xgb1, thresholds = roc_curve(y_smoted_val, xgb.predict_proba(X_smoted_val)[:,1])\n",
    "fpr_xgb2, tpr_xgb2, thresholds = roc_curve(y_adasyn_val, xgb.predict_proba(X_adasyn_val)[:,1])\n",
    "roc_auc_XGB1=roc_auc_score(y_smoted_val, xgb.predict_proba(X_smoted_val)[:,1])\n",
    "roc_auc_XGB2=roc_auc_score(y_adasyn_val, xgb.predict_proba(X_adasyn_val)[:,1])\n",
    "#naive bayes\n",
    "fpr_nb1, tpr_nb1, thresholds = roc_curve(y_smoted_val, nb.predict_proba(X_smoted_val)[:,1])\n",
    "fpr_nb2, tpr_nb2, thresholds = roc_curve(y_smoted_val, nb.predict_proba(X_smoted_val)[:,1])\n",
    "roc_auc_nb1=roc_auc_score(y_smoted_val, nb.predict_proba(X_smoted_val)[:,1])\n",
    "roc_auc_nb2=roc_auc_score(y_adasyn_val, nb.predict_proba(X_adasyn_val)[:,1])"
   ]
  },
  {
   "cell_type": "code",
   "execution_count": 987,
   "metadata": {},
   "outputs": [
    {
     "data": {
      "image/png": "[encoded data removed]",
      "text/plain": [
       "<Figure size 1080x720 with 1 Axes>"
      ]
     },
     "metadata": {
      "needs_background": "light"
     },
     "output_type": "display_data"
    }
   ],
   "source": [
    "plt.figure(figsize=(15,10))\n",
    "#random forest\n",
    "plt.plot(fpr_rf1, tpr_rf1,lw=2, label='Random Forest SMOTE ROC area = %0.2f)' % roc_auc_RF1)\n",
    "plt.plot(fpr_rf2, tpr_rf2,lw=2, label='Random Forest ADASYN ROC area = %0.2f)' % roc_auc_RF2)\n",
    "#decision tree\n",
    "plt.plot(fpr_dt1, tpr_dt1,lw=2, label='Decision Tree SMOTE ROC area = %0.2f)' % roc_auc_DT1)\n",
    "plt.plot(fpr_dt2, tpr_dt2,lw=2, label='Decision Tree ADASYN ROC area = %0.2f)' % roc_auc_DT2)\n",
    "#knn\n",
    "plt.plot(fpr_knn1, tpr_knn1,lw=2, label='KNN SMOTE ROC area = %0.2f)' % roc_auc_KNN1)\n",
    "plt.plot(fpr_knn2, tpr_knn2,lw=2, label='KNN ADASYN ROC area = %0.2f)' % roc_auc_KNN2)\n",
    "#logistic regression\n",
    "plt.plot(fpr_lr1, tpr_lr1,lw=2, label='Logistic Regression SMOTE ROC area = %0.2f)' % roc_auc_LR1)\n",
    "plt.plot(fpr_lr2, fpr_lr2,lw=2, label='Logistic Regression ADASYN ROC area = %0.2f)' % roc_auc_LR2)\n",
    "# #xgboost\n",
    "plt.plot(fpr_xgb1, tpr_xgb1,lw=2, label='XGBoost SMOTE ROC area = %0.2f)' % roc_auc_XGB1)\n",
    "plt.plot(fpr_xgb2, tpr_xgb2,lw=2, label='XGBoost ADASYN ROC area = %0.2f)' % roc_auc_XGB2)\n",
    "#naive bayes\n",
    "plt.plot(fpr_nb1, tpr_nb1,lw=2, label='XGBoost SMOTE ROC area = %0.2f)' % roc_auc_nb1)\n",
    "plt.plot(fpr_nb2, tpr_nb2,lw=2, label='XGBoost ADASYN ROC area = %0.2f)' % roc_auc_nb2)\n",
    "\n",
    "plt.plot([0,1],[0,1],c='violet',ls='--')\n",
    "plt.xlim([-0.05,1.05])\n",
    "plt.ylim([-0.05,1.05])\n",
    "\n",
    "plt.legend(loc=\"lower right\",ncol=1,fontsize = 'x-large')\n",
    "plt.xlabel('False positive rate')\n",
    "plt.ylabel('True positive rate')\n",
    "plt.title('ROC curve for Airbnb Booking');"
   ]
  },
  {
   "cell_type": "code",
   "execution_count": 989,
   "metadata": {},
   "outputs": [
    {
     "name": "stdout",
     "output_type": "stream",
     "text": [
      "Log-loss Random Forest SMOTE: 0.3218\n",
      "Log-loss Random Forest ADASYN: 0.4383\n",
      "Log-loss Decision Tree SMOTE: 0.7403\n",
      "Log-loss Decision Tree ADASYN: 1.4936\n",
      "Log-loss KNN SMOTE: 1.1214\n",
      "Log-loss KNN ADASYN: 1.6032\n",
      "Log-loss Logistic Regression SMOTE: 0.6455\n",
      "Log-loss Logistic Regression ADASYN: 0.6220\n",
      "Log-loss XGBoost SMOTE: 0.5529\n",
      "Log-loss XGBoost ADASYN: 0.5221\n",
      "Log-loss Naive Bayes SMOTE: 0.7263\n",
      "Log-loss Naive Bayes ADASYN: 0.6792\n"
     ]
    }
   ],
   "source": [
    "# #Random Forest\n",
    "print(\"Log-loss Random Forest SMOTE: {:6.4f}\".format(log_loss(y_smoted_val, RF.predict_proba(X_smoted_val))))\n",
    "print(\"Log-loss Random Forest ADASYN: {:6.4f}\".format(log_loss(y_adasyn_val, RF.predict_proba(X_adasyn_val))))\n",
    "#Decision Tree\n",
    "print(\"Log-loss Decision Tree SMOTE: {:6.4f}\".format(log_loss(y_smoted_val, DT.predict_proba(X_smoted_val))))\n",
    "print(\"Log-loss Decision Tree ADASYN: {:6.4f}\".format(log_loss(y_adasyn_val, DT.predict_proba(X_adasyn_val))))\n",
    "#KNN\n",
    "print(\"Log-loss KNN SMOTE: {:6.4f}\".format(log_loss(y_smoted_val, knn.predict_proba(X_smoted_val))))\n",
    "print(\"Log-loss KNN ADASYN: {:6.4f}\".format(log_loss(y_adasyn_val, knn.predict_proba(X_adasyn_val))))\n",
    "# Logistic Regression\n",
    "print(\"Log-loss Logistic Regression SMOTE: {:6.4f}\".format(log_loss(y_smoted_val, lr.predict_proba(X_smoted_val))))\n",
    "print(\"Log-loss Logistic Regression ADASYN: {:6.4f}\".format(log_loss(y_adasyn_val, lr.predict_proba(X_adasyn_val))))\n",
    "#XGBoost\n",
    "print(\"Log-loss XGBoost SMOTE: {:6.4f}\".format(log_loss(y_smoted_val, xgb.predict_proba(X_smoted_val))))\n",
    "print(\"Log-loss XGBoost ADASYN: {:6.4f}\".format(log_loss(y_adasyn_val, xgb.predict_proba(X_adasyn_val))))\n",
    "#naive bayes\n",
    "print(\"Log-loss Naive Bayes SMOTE: {:6.4f}\".format(log_loss(y_smoted_val, nb.predict_proba(X_smoted_val))))\n",
    "print(\"Log-loss Naive Bayes ADASYN: {:6.4f}\".format(log_loss(y_adasyn_val, nb.predict_proba(X_adasyn_val))))\n"
   ]
  },
  {
   "cell_type": "markdown",
   "metadata": {},
   "source": [
    "From the result, we can tell that Random Forest with SMOTE is so far my best model. Let's try to combine the best 2 models to see if we can get a better model."
   ]
  },
  {
   "cell_type": "markdown",
   "metadata": {},
   "source": [
    "## Ensemble Methods "
   ]
  },
  {
   "cell_type": "code",
   "execution_count": 990,
   "metadata": {},
   "outputs": [],
   "source": [
    "#Ensemble methods help to minimize these factors. \n",
    "#These methods are designed to improve the stability and the accuracy of Machine Learning algorithms.\n",
    "from mlxtend.classifier import StackingClassifier\n",
    "from mlxtend.plotting import plot_decision_regions\n",
    "from sklearn.ensemble import (RandomForestClassifier,VotingClassifier, AdaBoostClassifier)"
   ]
  },
  {
   "cell_type": "code",
   "execution_count": 991,
   "metadata": {},
   "outputs": [],
   "source": [
    "model_names=['RF','DT']"
   ]
  },
  {
   "cell_type": "code",
   "execution_count": 992,
   "metadata": {},
   "outputs": [
    {
     "data": {
      "text/plain": [
       "[('RF',\n",
       "  RandomForestClassifier(bootstrap=True, class_weight=None, criterion='gini',\n",
       "                         max_depth=None, max_features=33, max_leaf_nodes=None,\n",
       "                         min_impurity_decrease=0.0, min_impurity_split=None,\n",
       "                         min_samples_leaf=1, min_samples_split=2,\n",
       "                         min_weight_fraction_leaf=0.0, n_estimators=100,\n",
       "                         n_jobs=None, oob_score=False, random_state=None,\n",
       "                         verbose=0, warm_start=False)),\n",
       " ('DT',\n",
       "  DecisionTreeClassifier(class_weight=None, criterion='gini', max_depth=None,\n",
       "                         max_features=None, max_leaf_nodes=None,\n",
       "                         min_impurity_decrease=0.0, min_impurity_split=None,\n",
       "                         min_samples_leaf=1, min_samples_split=2,\n",
       "                         min_weight_fraction_leaf=0.0, presort=False,\n",
       "                         random_state=0, splitter='best'))]"
      ]
     },
     "execution_count": 992,
     "metadata": {},
     "output_type": "execute_result"
    }
   ],
   "source": [
    "model_vars = [eval(n) for n in model_names]\n",
    "model_list = list(zip(model_names, model_vars))\n",
    "model_list"
   ]
  },
  {
   "cell_type": "code",
   "execution_count": 993,
   "metadata": {},
   "outputs": [
    {
     "data": {
      "text/plain": [
       "VotingClassifier(estimators=[('RF',\n",
       "                              RandomForestClassifier(bootstrap=True,\n",
       "                                                     class_weight=None,\n",
       "                                                     criterion='gini',\n",
       "                                                     max_depth=None,\n",
       "                                                     max_features=33,\n",
       "                                                     max_leaf_nodes=None,\n",
       "                                                     min_impurity_decrease=0.0,\n",
       "                                                     min_impurity_split=None,\n",
       "                                                     min_samples_leaf=1,\n",
       "                                                     min_samples_split=2,\n",
       "                                                     min_weight_fraction_leaf=0.0,\n",
       "                                                     n_estimators=100,\n",
       "                                                     n_jobs=None,\n",
       "                                                     oob_score=False,\n",
       "                                                     random_state=None,\n",
       "                                                     verbose=0,\n",
       "                                                     warm_start=False)),\n",
       "                             ('DT',\n",
       "                              DecisionTreeClassifier(class_weight=None,\n",
       "                                                     criterion='gini',\n",
       "                                                     max_depth=None,\n",
       "                                                     max_features=None,\n",
       "                                                     max_leaf_nodes=None,\n",
       "                                                     min_impurity_decrease=0.0,\n",
       "                                                     min_impurity_split=None,\n",
       "                                                     min_samples_leaf=1,\n",
       "                                                     min_samples_split=2,\n",
       "                                                     min_weight_fraction_leaf=0.0,\n",
       "                                                     presort=False,\n",
       "                                                     random_state=0,\n",
       "                                                     splitter='best'))],\n",
       "                 flatten_transform=True, n_jobs=-1, voting='hard',\n",
       "                 weights=None)"
      ]
     },
     "execution_count": 993,
     "metadata": {},
     "output_type": "execute_result"
    }
   ],
   "source": [
    "#Max Voting\n",
    "voting_classifer = VotingClassifier(estimators=model_list,\n",
    "                                    voting='hard', #<-- sklearn calls this hard voting\n",
    "                                    n_jobs=-1)\n",
    "voting_classifer.fit(X_smoted_train, y_smoted_train)"
   ]
  },
  {
   "cell_type": "code",
   "execution_count": 994,
   "metadata": {},
   "outputs": [
    {
     "data": {
      "text/plain": [
       "0.8822883593958636"
      ]
     },
     "execution_count": 994,
     "metadata": {},
     "output_type": "execute_result"
    }
   ],
   "source": [
    "y_pred_Ensemble = voting_classifer.predict(X_smoted_val)\n",
    "precision_score(y_smoted_val,y_pred_Ensemble)"
   ]
  },
  {
   "cell_type": "code",
   "execution_count": 995,
   "metadata": {},
   "outputs": [
    {
     "data": {
      "text/plain": [
       "VotingClassifier(estimators=[('RF',\n",
       "                              RandomForestClassifier(bootstrap=True,\n",
       "                                                     class_weight=None,\n",
       "                                                     criterion='gini',\n",
       "                                                     max_depth=None,\n",
       "                                                     max_features=33,\n",
       "                                                     max_leaf_nodes=None,\n",
       "                                                     min_impurity_decrease=0.0,\n",
       "                                                     min_impurity_split=None,\n",
       "                                                     min_samples_leaf=1,\n",
       "                                                     min_samples_split=2,\n",
       "                                                     min_weight_fraction_leaf=0.0,\n",
       "                                                     n_estimators=100,\n",
       "                                                     n_jobs=None,\n",
       "                                                     oob_score=False,\n",
       "                                                     random_state=None,\n",
       "                                                     verbose=0,\n",
       "                                                     warm_start=False)),\n",
       "                             ('DT',\n",
       "                              DecisionTreeClassifier(class_weight=None,\n",
       "                                                     criterion='gini',\n",
       "                                                     max_depth=None,\n",
       "                                                     max_features=None,\n",
       "                                                     max_leaf_nodes=None,\n",
       "                                                     min_impurity_decrease=0.0,\n",
       "                                                     min_impurity_split=None,\n",
       "                                                     min_samples_leaf=1,\n",
       "                                                     min_samples_split=2,\n",
       "                                                     min_weight_fraction_leaf=0.0,\n",
       "                                                     presort=False,\n",
       "                                                     random_state=0,\n",
       "                                                     splitter='best'))],\n",
       "                 flatten_transform=True, n_jobs=-1, voting='soft',\n",
       "                 weights=None)"
      ]
     },
     "execution_count": 995,
     "metadata": {},
     "output_type": "execute_result"
    }
   ],
   "source": [
    "#Avg Voting\n",
    "voting_classifer_avg = VotingClassifier(estimators=model_list,\n",
    "                                    voting='soft', #<-- sklearn calls this hard voting\n",
    "                                    n_jobs=-1)\n",
    "voting_classifer_avg.fit(X_smoted_train, y_smoted_train)"
   ]
  },
  {
   "cell_type": "code",
   "execution_count": 996,
   "metadata": {},
   "outputs": [
    {
     "data": {
      "text/plain": [
       "0.871960682876358"
      ]
     },
     "execution_count": 996,
     "metadata": {},
     "output_type": "execute_result"
    }
   ],
   "source": [
    "y_pred_Ensemble_avg = voting_classifer_avg.predict(X_smoted_val)\n",
    "precision_score(y_smoted_val,y_pred_Ensemble_avg)"
   ]
  },
  {
   "cell_type": "code",
   "execution_count": 997,
   "metadata": {},
   "outputs": [
    {
     "data": {
      "text/plain": [
       "VotingClassifier(estimators=[('RF',\n",
       "                              RandomForestClassifier(bootstrap=True,\n",
       "                                                     class_weight=None,\n",
       "                                                     criterion='gini',\n",
       "                                                     max_depth=None,\n",
       "                                                     max_features=33,\n",
       "                                                     max_leaf_nodes=None,\n",
       "                                                     min_impurity_decrease=0.0,\n",
       "                                                     min_impurity_split=None,\n",
       "                                                     min_samples_leaf=1,\n",
       "                                                     min_samples_split=2,\n",
       "                                                     min_weight_fraction_leaf=0.0,\n",
       "                                                     n_estimators=100,\n",
       "                                                     n_jobs=None,\n",
       "                                                     oob_score=False,\n",
       "                                                     random_state=None,\n",
       "                                                     verbose=0,\n",
       "                                                     warm_start=False)),\n",
       "                             ('DT',\n",
       "                              DecisionTreeClassifier(class_weight=None,\n",
       "                                                     criterion='gini',\n",
       "                                                     max_depth=None,\n",
       "                                                     max_features=None,\n",
       "                                                     max_leaf_nodes=None,\n",
       "                                                     min_impurity_decrease=0.0,\n",
       "                                                     min_impurity_split=None,\n",
       "                                                     min_samples_leaf=1,\n",
       "                                                     min_samples_split=2,\n",
       "                                                     min_weight_fraction_leaf=0.0,\n",
       "                                                     presort=False,\n",
       "                                                     random_state=0,\n",
       "                                                     splitter='best'))],\n",
       "                 flatten_transform=True, n_jobs=-1, voting='soft',\n",
       "                 weights=[5.5, 0.2])"
      ]
     },
     "execution_count": 997,
     "metadata": {},
     "output_type": "execute_result"
    }
   ],
   "source": [
    "#Weighted Voting\n",
    "# create voting classifier\n",
    "weights = [5.5,0.2]\n",
    "voting_model_weight = VotingClassifier(estimators=model_list,\n",
    "                                    voting='soft', \n",
    "                                    weights = weights,\n",
    "                                    n_jobs=-1)\n",
    "voting_model_weight.fit(X_smoted_train, y_smoted_train)"
   ]
  },
  {
   "cell_type": "code",
   "execution_count": 998,
   "metadata": {},
   "outputs": [
    {
     "data": {
      "text/plain": [
       "0.8753813257305774"
      ]
     },
     "execution_count": 998,
     "metadata": {},
     "output_type": "execute_result"
    }
   ],
   "source": [
    "y_pred_Ensemble_weight = voting_model_weight.predict(X_smoted_val)\n",
    "precision_score(y_smoted_val,y_pred_Ensemble_weight)"
   ]
  },
  {
   "cell_type": "code",
   "execution_count": 999,
   "metadata": {},
   "outputs": [
    {
     "data": {
      "text/plain": [
       "VotingClassifier(estimators=[('RF',\n",
       "                              RandomForestClassifier(bootstrap=True,\n",
       "                                                     class_weight=None,\n",
       "                                                     criterion='gini',\n",
       "                                                     max_depth=None,\n",
       "                                                     max_features=33,\n",
       "                                                     max_leaf_nodes=None,\n",
       "                                                     min_impurity_decrease=0.0,\n",
       "                                                     min_impurity_split=None,\n",
       "                                                     min_samples_leaf=1,\n",
       "                                                     min_samples_split=2,\n",
       "                                                     min_weight_fraction_leaf=0.0,\n",
       "                                                     n_estimators=100,\n",
       "                                                     n_jobs=None,\n",
       "                                                     oob_score=False,\n",
       "                                                     random_state=None,\n",
       "                                                     verbose=0,\n",
       "                                                     warm_start=False)),\n",
       "                             ('DT',\n",
       "                              DecisionTreeClassifier(class_weight=None,\n",
       "                                                     criterion='gini',\n",
       "                                                     max_depth=None,\n",
       "                                                     max_features=None,\n",
       "                                                     max_leaf_nodes=None,\n",
       "                                                     min_impurity_decrease=0.0,\n",
       "                                                     min_impurity_split=None,\n",
       "                                                     min_samples_leaf=1,\n",
       "                                                     min_samples_split=2,\n",
       "                                                     min_weight_fraction_leaf=0.0,\n",
       "                                                     presort=False,\n",
       "                                                     random_state=0,\n",
       "                                                     splitter='best'))],\n",
       "                 flatten_transform=True, n_jobs=-1, voting='soft',\n",
       "                 weights=[5.5, 0.2])"
      ]
     },
     "execution_count": 999,
     "metadata": {},
     "output_type": "execute_result"
    }
   ],
   "source": [
    "#Weighted Voting\n",
    "# create voting classifier\n",
    "weights = [5.5,0.2]\n",
    "voting_model_weight = VotingClassifier(estimators=model_list,\n",
    "                                    voting='soft', \n",
    "                                    weights = weights,\n",
    "                                    n_jobs=-1)\n",
    "voting_model_weight.fit(X_adasyn_train, y_adasyn_train)"
   ]
  },
  {
   "cell_type": "code",
   "execution_count": 1000,
   "metadata": {},
   "outputs": [
    {
     "data": {
      "text/plain": [
       "0.8688236480451756"
      ]
     },
     "execution_count": 1000,
     "metadata": {},
     "output_type": "execute_result"
    }
   ],
   "source": [
    "y_pred_Ensemble_weight_ada = voting_model_weight.predict(X_adasyn_val)\n",
    "precision_score(y_adasyn_val,y_pred_Ensemble_weight_ada)"
   ]
  },
  {
   "cell_type": "code",
   "execution_count": 1002,
   "metadata": {},
   "outputs": [],
   "source": [
    "#random forest\n",
    "fpr_stack, tpr_stack, thresholds = roc_curve(y_smoted_val, voting_model_weight.predict_proba(X_smoted_val)[:,1])\n",
    "roc_auc_stack=roc_auc_score(y_smoted_val, voting_model_weight.predict_proba(X_smoted_val)[:,1])"
   ]
  },
  {
   "cell_type": "code",
   "execution_count": 1007,
   "metadata": {},
   "outputs": [
    {
     "data": {
      "image/png": "[encoded data removed]",
      "text/plain": [
       "<Figure size 1080x720 with 1 Axes>"
      ]
     },
     "metadata": {
      "needs_background": "light"
     },
     "output_type": "display_data"
    }
   ],
   "source": [
    "plt.figure(figsize=(15,10))\n",
    "#random forest\n",
    "plt.plot(fpr_rf1, tpr_rf1,lw=2, label='Random Forest SMOTE ROC area = %0.2f)' % roc_auc_RF1)\n",
    "plt.plot(fpr_rf2, tpr_rf2,lw=2, label='Random Forest ADASYN ROC area = %0.2f)' % roc_auc_RF2)\n",
    "#decision tree\n",
    "plt.plot(fpr_dt1, tpr_dt1,lw=2, label='Decision Tree SMOTE ROC area = %0.2f)' % roc_auc_DT1)\n",
    "plt.plot(fpr_dt2, tpr_dt2,lw=2, label='Decision Tree ADASYN ROC area = %0.2f)' % roc_auc_DT2)\n",
    "#ensemble method\n",
    "plt.plot(fpr_stack, tpr_stack,lw=2, label='Ensemble Methods SMOTE ROC area = %0.2f)' % roc_auc_stack)\n",
    "\n",
    "plt.plot([0,1],[0,1],c='violet',ls='--')\n",
    "plt.xlim([-0.05,1.05])\n",
    "plt.ylim([-0.05,1.05])\n",
    "\n",
    "plt.legend(loc=\"lower right\",ncol=1,fontsize = 'xx-large')\n",
    "plt.xlabel('False positive rate')\n",
    "plt.ylabel('True positive rate')\n",
    "plt.title('ROC curve for Airbnb Booking');"
   ]
  },
  {
   "cell_type": "markdown",
   "metadata": {},
   "source": [
    "After using ensemble method, we can see that the Random Forest SMOTE model is still the best model so far. Now that we have an idea about which model perform the best in general, we can compare their precision scores."
   ]
  },
  {
   "cell_type": "code",
   "execution_count": 1008,
   "metadata": {},
   "outputs": [],
   "source": [
    "rf_precision=precision_score(y_smoted_val,y_predict_rf)\n",
    "rf_ada_precision=precision_score(y_adasyn_val,y_predict_rf_ada)\n",
    "dt_precision=precision_score(y_smoted_val,y_pred_dt)\n",
    "dt_ada_precision=precision_score(y_adasyn_val,y_pred_dt_ada)\n",
    "es_precision=precision_score(y_smoted_val,y_pred_Ensemble_weight)"
   ]
  },
  {
   "cell_type": "markdown",
   "metadata": {},
   "source": [
    "Log Loss: show the uncertainty of your prediction based on how much it varies from the actual label. "
   ]
  },
  {
   "cell_type": "code",
   "execution_count": 1009,
   "metadata": {},
   "outputs": [],
   "source": [
    "#Random Forest\n",
    "log1=log_loss(y_smoted_val, RF.predict_proba(X_smoted_val))\n",
    "log2=log_loss(y_adasyn_val, RF.predict_proba(X_adasyn_val))\n",
    "#Decision Tree\n",
    "log3=log_loss(y_smoted_val, DT.predict_proba(X_smoted_val))\n",
    "log4=log_loss(y_adasyn_val, DT.predict_proba(X_adasyn_val))\n",
    "#Ensemble Method\n",
    "log5=log_loss(y_smoted_val, voting_model_weight.predict_proba(X_smoted_val))          "
   ]
  },
  {
   "cell_type": "code",
   "execution_count": 1010,
   "metadata": {},
   "outputs": [
    {
     "data": {
      "text/html": [
       "<div>\n",
       "<style scoped>\n",
       "    .dataframe tbody tr th:only-of-type {\n",
       "        vertical-align: middle;\n",
       "    }\n",
       "\n",
       "    .dataframe tbody tr th {\n",
       "        vertical-align: top;\n",
       "    }\n",
       "\n",
       "    .dataframe thead th {\n",
       "        text-align: right;\n",
       "    }\n",
       "</style>\n",
       "<table border=\"1\" class=\"dataframe\">\n",
       "  <thead>\n",
       "    <tr style=\"text-align: right;\">\n",
       "      <th></th>\n",
       "      <th>Precision</th>\n",
       "      <th>AUC</th>\n",
       "      <th>Log-Loss</th>\n",
       "    </tr>\n",
       "  </thead>\n",
       "  <tbody>\n",
       "    <tr>\n",
       "      <th>Random Forest SMOTE</th>\n",
       "      <td>0.875171</td>\n",
       "      <td>0.944476</td>\n",
       "      <td>0.321781</td>\n",
       "    </tr>\n",
       "    <tr>\n",
       "      <th>Random Forest ADASYN</th>\n",
       "      <td>0.870102</td>\n",
       "      <td>0.923468</td>\n",
       "      <td>0.438302</td>\n",
       "    </tr>\n",
       "    <tr>\n",
       "      <th>Decision Tree SMOTE</th>\n",
       "      <td>0.873153</td>\n",
       "      <td>0.934041</td>\n",
       "      <td>0.740336</td>\n",
       "    </tr>\n",
       "    <tr>\n",
       "      <th>Decision Tree ADASYN</th>\n",
       "      <td>0.868951</td>\n",
       "      <td>0.897142</td>\n",
       "      <td>1.493626</td>\n",
       "    </tr>\n",
       "    <tr>\n",
       "      <th>Ensemble Method</th>\n",
       "      <td>0.875381</td>\n",
       "      <td>0.944573</td>\n",
       "      <td>0.322501</td>\n",
       "    </tr>\n",
       "  </tbody>\n",
       "</table>\n",
       "</div>"
      ],
      "text/plain": [
       "                      Precision       AUC  Log-Loss\n",
       "Random Forest SMOTE    0.875171  0.944476  0.321781\n",
       "Random Forest ADASYN   0.870102  0.923468  0.438302\n",
       "Decision Tree SMOTE    0.873153  0.934041  0.740336\n",
       "Decision Tree ADASYN   0.868951  0.897142  1.493626\n",
       "Ensemble Method        0.875381  0.944573  0.322501"
      ]
     },
     "execution_count": 1010,
     "metadata": {},
     "output_type": "execute_result"
    }
   ],
   "source": [
    "# initialise data of lists. \n",
    "data = {'Precision':[rf_precision,rf_ada_precision,dt_precision,dt_ada_precision,es_precision],\n",
    "       'AUC':[roc_auc_RF1,roc_auc_RF2,roc_auc_DT1,roc_auc_DT2,roc_auc_stack],\n",
    "       'Log-Loss':[log1,log2,log3,log4,log5]} \n",
    "  \n",
    "# Creates pandas DataFrame. \n",
    "df = pd.DataFrame(data, index =['Random Forest SMOTE', 'Random Forest ADASYN', 'Decision Tree SMOTE', \n",
    "                                'Decision Tree ADASYN','Ensemble Method']) \n",
    "  \n",
    "# print the data \n",
    "df "
   ]
  },
  {
   "cell_type": "markdown",
   "metadata": {},
   "source": [
    "## Final Model Testing"
   ]
  },
  {
   "cell_type": "code",
   "execution_count": 1011,
   "metadata": {},
   "outputs": [
    {
     "data": {
      "text/plain": [
       "RandomForestClassifier(bootstrap=True, class_weight=None, criterion='gini',\n",
       "                       max_depth=None, max_features=10, max_leaf_nodes=None,\n",
       "                       min_impurity_decrease=0.0, min_impurity_split=None,\n",
       "                       min_samples_leaf=1, min_samples_split=2,\n",
       "                       min_weight_fraction_leaf=0.0, n_estimators=100,\n",
       "                       n_jobs=None, oob_score=False, random_state=None,\n",
       "                       verbose=0, warm_start=False)"
      ]
     },
     "execution_count": 1011,
     "metadata": {},
     "output_type": "execute_result"
    }
   ],
   "source": [
    "#Random Forest SMOTE\n",
    "from sklearn.ensemble import RandomForestClassifier\n",
    "RF = RandomForestClassifier(n_estimators=100, max_features=10)\n",
    "RF.fit(X_smoted, y_smoted) "
   ]
  },
  {
   "cell_type": "code",
   "execution_count": 1012,
   "metadata": {},
   "outputs": [],
   "source": [
    "y_predict_rf_final = RF.predict(X_smoted_test)"
   ]
  },
  {
   "cell_type": "code",
   "execution_count": 1013,
   "metadata": {},
   "outputs": [
    {
     "name": "stdout",
     "output_type": "stream",
     "text": [
      "              precision    recall  f1-score   support\n",
      "\n",
      "         0.0       0.82      0.89      0.86     37731\n",
      "         1.0       0.88      0.81      0.84     37723\n",
      "\n",
      "    accuracy                           0.85     75454\n",
      "   macro avg       0.85      0.85      0.85     75454\n",
      "weighted avg       0.85      0.85      0.85     75454\n",
      "\n"
     ]
    }
   ],
   "source": [
    "print(metrics.classification_report(y_smoted_test, y_predict_rf_final))"
   ]
  },
  {
   "cell_type": "code",
   "execution_count": 1019,
   "metadata": {},
   "outputs": [
    {
     "data": {
      "text/plain": [
       "VotingClassifier(estimators=[('RF',\n",
       "                              RandomForestClassifier(bootstrap=True,\n",
       "                                                     class_weight=None,\n",
       "                                                     criterion='gini',\n",
       "                                                     max_depth=None,\n",
       "                                                     max_features=33,\n",
       "                                                     max_leaf_nodes=None,\n",
       "                                                     min_impurity_decrease=0.0,\n",
       "                                                     min_impurity_split=None,\n",
       "                                                     min_samples_leaf=1,\n",
       "                                                     min_samples_split=2,\n",
       "                                                     min_weight_fraction_leaf=0.0,\n",
       "                                                     n_estimators=100,\n",
       "                                                     n_jobs=None,\n",
       "                                                     oob_score=False,\n",
       "                                                     random_state=None,\n",
       "                                                     verbose=0,\n",
       "                                                     warm_start=False)),\n",
       "                             ('DT',\n",
       "                              DecisionTreeClassifier(class_weight=None,\n",
       "                                                     criterion='gini',\n",
       "                                                     max_depth=None,\n",
       "                                                     max_features=None,\n",
       "                                                     max_leaf_nodes=None,\n",
       "                                                     min_impurity_decrease=0.0,\n",
       "                                                     min_impurity_split=None,\n",
       "                                                     min_samples_leaf=1,\n",
       "                                                     min_samples_split=2,\n",
       "                                                     min_weight_fraction_leaf=0.0,\n",
       "                                                     presort=False,\n",
       "                                                     random_state=0,\n",
       "                                                     splitter='best'))],\n",
       "                 flatten_transform=True, n_jobs=-1, voting='soft',\n",
       "                 weights=None)"
      ]
     },
     "execution_count": 1019,
     "metadata": {},
     "output_type": "execute_result"
    }
   ],
   "source": [
    "#Max Voting\n",
    "voting_classifer = VotingClassifier(estimators=model_list,\n",
    "                                    voting='soft', #<-- sklearn calls this hard voting\n",
    "                                    n_jobs=-1)\n",
    "voting_classifer.fit(X_smoted, y_smoted)"
   ]
  },
  {
   "cell_type": "code",
   "execution_count": 1020,
   "metadata": {},
   "outputs": [],
   "source": [
    "y_pred_Ensemble_final = voting_classifer.predict(X_smoted_test)\n",
    "# precision_score(y_smoted_test,y_pred_Ensemble)"
   ]
  },
  {
   "cell_type": "code",
   "execution_count": 1021,
   "metadata": {},
   "outputs": [
    {
     "name": "stdout",
     "output_type": "stream",
     "text": [
      "              precision    recall  f1-score   support\n",
      "\n",
      "         0.0       0.82      0.89      0.85     37731\n",
      "         1.0       0.88      0.80      0.84     37723\n",
      "\n",
      "    accuracy                           0.84     75454\n",
      "   macro avg       0.85      0.84      0.84     75454\n",
      "weighted avg       0.85      0.84      0.84     75454\n",
      "\n"
     ]
    }
   ],
   "source": [
    "print(metrics.classification_report(y_smoted_test, y_pred_Ensemble_final))"
   ]
  },
  {
   "cell_type": "code",
   "execution_count": 1022,
   "metadata": {
    "scrolled": false
   },
   "outputs": [
    {
     "data": {
      "text/plain": [
       "0.8757803468208093"
      ]
     },
     "execution_count": 1022,
     "metadata": {},
     "output_type": "execute_result"
    }
   ],
   "source": [
    "precision_score(y_smoted_test,y_pred_Ensemble_final)"
   ]
  },
  {
   "cell_type": "code",
   "execution_count": 1017,
   "metadata": {},
   "outputs": [
    {
     "data": {
      "text/plain": [
       "0.8783756636533219"
      ]
     },
     "execution_count": 1017,
     "metadata": {},
     "output_type": "execute_result"
    }
   ],
   "source": [
    "precision_score(y_smoted_test,y_predict_rf_final)"
   ]
  },
  {
   "cell_type": "markdown",
   "metadata": {},
   "source": [
    "We can see that the precision score of the Randaom Forest perform better on the test set than the validation set."
   ]
  },
  {
   "cell_type": "code",
   "execution_count": null,
   "metadata": {},
   "outputs": [],
   "source": []
  }
 ],
 "metadata": {
  "kernelspec": {
   "display_name": "Python 3",
   "language": "python",
   "name": "python3"
  },
  "language_info": {
   "codemirror_mode": {
    "name": "ipython",
    "version": 3
   },
   "file_extension": ".py",
   "mimetype": "text/x-python",
   "name": "python",
   "nbconvert_exporter": "python",
   "pygments_lexer": "ipython3",
   "version": "3.7.3"
  }
 },
 "nbformat": 4,
 "nbformat_minor": 2
}
